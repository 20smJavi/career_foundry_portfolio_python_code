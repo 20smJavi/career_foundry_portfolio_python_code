{
 "cells": [
  {
   "cell_type": "markdown",
   "id": "c7e180c9",
   "metadata": {},
   "source": [
    "## Importing Libraries and Data"
   ]
  },
  {
   "cell_type": "code",
   "execution_count": 1,
   "id": "db635331",
   "metadata": {},
   "outputs": [],
   "source": [
    "# Importing Libraries\n",
    "import pandas as pd\n",
    "import numpy as np\n",
    "import os"
   ]
  },
  {
   "cell_type": "code",
   "execution_count": 2,
   "id": "0e2a33fd",
   "metadata": {},
   "outputs": [],
   "source": [
    "# Importing Data\n",
    "path = r'C:\\Users\\javir\\Downloads\\Javis Data Analytics stuff\\Achievement 4\\Instacart Basket Analysis'\n",
    "df = pd.read_pickle(os.path.join(path,'02 Data', 'Prepared Data', 'orders_products_merged_added.pkl'))"
   ]
  },
  {
   "cell_type": "markdown",
   "id": "1d62c2e7",
   "metadata": {},
   "source": [
    "## Question 2 - Aggregate mean of order_number by department_id for entire dataframe"
   ]
  },
  {
   "cell_type": "code",
   "execution_count": 3,
   "id": "5882e48b",
   "metadata": {},
   "outputs": [
    {
     "data": {
      "text/plain": [
       "(32641268, 20)"
      ]
     },
     "execution_count": 3,
     "metadata": {},
     "output_type": "execute_result"
    }
   ],
   "source": [
    "# Checking the scope of our dataframe\n",
    "df.shape\n",
    "# 32,641,268 rows"
   ]
  },
  {
   "cell_type": "code",
   "execution_count": 4,
   "id": "1a569734",
   "metadata": {},
   "outputs": [
    {
     "data": {
      "text/html": [
       "<div>\n",
       "<style scoped>\n",
       "    .dataframe tbody tr th:only-of-type {\n",
       "        vertical-align: middle;\n",
       "    }\n",
       "\n",
       "    .dataframe tbody tr th {\n",
       "        vertical-align: top;\n",
       "    }\n",
       "\n",
       "    .dataframe thead tr th {\n",
       "        text-align: left;\n",
       "    }\n",
       "\n",
       "    .dataframe thead tr:last-of-type th {\n",
       "        text-align: right;\n",
       "    }\n",
       "</style>\n",
       "<table border=\"1\" class=\"dataframe\">\n",
       "  <thead>\n",
       "    <tr>\n",
       "      <th></th>\n",
       "      <th>order_number</th>\n",
       "    </tr>\n",
       "    <tr>\n",
       "      <th></th>\n",
       "      <th>mean</th>\n",
       "    </tr>\n",
       "    <tr>\n",
       "      <th>department_id</th>\n",
       "      <th></th>\n",
       "    </tr>\n",
       "  </thead>\n",
       "  <tbody>\n",
       "    <tr>\n",
       "      <th>1.0</th>\n",
       "      <td>15.457838</td>\n",
       "    </tr>\n",
       "    <tr>\n",
       "      <th>2.0</th>\n",
       "      <td>17.277920</td>\n",
       "    </tr>\n",
       "    <tr>\n",
       "      <th>3.0</th>\n",
       "      <td>17.170395</td>\n",
       "    </tr>\n",
       "    <tr>\n",
       "      <th>4.0</th>\n",
       "      <td>17.811403</td>\n",
       "    </tr>\n",
       "    <tr>\n",
       "      <th>5.0</th>\n",
       "      <td>15.215751</td>\n",
       "    </tr>\n",
       "    <tr>\n",
       "      <th>6.0</th>\n",
       "      <td>16.439806</td>\n",
       "    </tr>\n",
       "    <tr>\n",
       "      <th>7.0</th>\n",
       "      <td>17.225802</td>\n",
       "    </tr>\n",
       "    <tr>\n",
       "      <th>8.0</th>\n",
       "      <td>15.340650</td>\n",
       "    </tr>\n",
       "    <tr>\n",
       "      <th>9.0</th>\n",
       "      <td>15.895474</td>\n",
       "    </tr>\n",
       "    <tr>\n",
       "      <th>10.0</th>\n",
       "      <td>20.197148</td>\n",
       "    </tr>\n",
       "    <tr>\n",
       "      <th>11.0</th>\n",
       "      <td>16.170638</td>\n",
       "    </tr>\n",
       "    <tr>\n",
       "      <th>12.0</th>\n",
       "      <td>15.887671</td>\n",
       "    </tr>\n",
       "    <tr>\n",
       "      <th>13.0</th>\n",
       "      <td>16.583536</td>\n",
       "    </tr>\n",
       "    <tr>\n",
       "      <th>14.0</th>\n",
       "      <td>16.773669</td>\n",
       "    </tr>\n",
       "    <tr>\n",
       "      <th>15.0</th>\n",
       "      <td>16.165037</td>\n",
       "    </tr>\n",
       "    <tr>\n",
       "      <th>16.0</th>\n",
       "      <td>17.665606</td>\n",
       "    </tr>\n",
       "    <tr>\n",
       "      <th>17.0</th>\n",
       "      <td>15.694469</td>\n",
       "    </tr>\n",
       "    <tr>\n",
       "      <th>18.0</th>\n",
       "      <td>19.310397</td>\n",
       "    </tr>\n",
       "    <tr>\n",
       "      <th>19.0</th>\n",
       "      <td>17.177343</td>\n",
       "    </tr>\n",
       "    <tr>\n",
       "      <th>20.0</th>\n",
       "      <td>16.473447</td>\n",
       "    </tr>\n",
       "    <tr>\n",
       "      <th>21.0</th>\n",
       "      <td>22.902379</td>\n",
       "    </tr>\n",
       "  </tbody>\n",
       "</table>\n",
       "</div>"
      ],
      "text/plain": [
       "              order_number\n",
       "                      mean\n",
       "department_id             \n",
       "1.0              15.457838\n",
       "2.0              17.277920\n",
       "3.0              17.170395\n",
       "4.0              17.811403\n",
       "5.0              15.215751\n",
       "6.0              16.439806\n",
       "7.0              17.225802\n",
       "8.0              15.340650\n",
       "9.0              15.895474\n",
       "10.0             20.197148\n",
       "11.0             16.170638\n",
       "12.0             15.887671\n",
       "13.0             16.583536\n",
       "14.0             16.773669\n",
       "15.0             16.165037\n",
       "16.0             17.665606\n",
       "17.0             15.694469\n",
       "18.0             19.310397\n",
       "19.0             17.177343\n",
       "20.0             16.473447\n",
       "21.0             22.902379"
      ]
     },
     "execution_count": 4,
     "metadata": {},
     "output_type": "execute_result"
    }
   ],
   "source": [
    "# Grouping our dataframe by department_id, then grabing the mean of order_number and grouping it by department_id\n",
    "df.groupby('department_id').agg({'order_number':['mean']})"
   ]
  },
  {
   "cell_type": "markdown",
   "id": "daa60ef9",
   "metadata": {},
   "source": [
    "## Question 3 - Analyze the results"
   ]
  },
  {
   "cell_type": "markdown",
   "id": "02c31d4c",
   "metadata": {},
   "source": [
    "##### While the numbers did change, there was no drastic leaps frim our 1 million to 32 million row change. If we took only the whole number, departments: 1,8,14,15,16,20 all had a change of only 1 numeral point. Departments: 1 and 15 went up 1 average point, and Departments: 8,14,16,20 all went down 1 average point. Having 32x's the amount of data while a huge benefactor, of average orders we did not see any large changes."
   ]
  },
  {
   "cell_type": "markdown",
   "id": "3fff2352",
   "metadata": {},
   "source": [
    "## Question 4 - Create loyalty flags for the entire dataframe"
   ]
  },
  {
   "cell_type": "code",
   "execution_count": 5,
   "id": "543bda9a",
   "metadata": {},
   "outputs": [],
   "source": [
    "# Creating a new column with max_order numbers to use new data for creating our layalty flags\n",
    "df['max_order'] = df.groupby(['user_id'])['order_number'].transform(np.max)"
   ]
  },
  {
   "cell_type": "markdown",
   "id": "e613f2f5",
   "metadata": {},
   "source": [
    "### Creating our loyalty flag columns and filling in the data"
   ]
  },
  {
   "cell_type": "code",
   "execution_count": 6,
   "id": "33e7a891",
   "metadata": {},
   "outputs": [],
   "source": [
    "df.loc[df['max_order'] <= 10, 'loyalty_flag'] = 'New customer'"
   ]
  },
  {
   "cell_type": "code",
   "execution_count": 7,
   "id": "42aba768",
   "metadata": {
    "scrolled": true
   },
   "outputs": [],
   "source": [
    "df.loc[(df['max_order'] <= 40) & (df['max_order'] > 10), 'loyalty_flag'] = 'Regular Customer'"
   ]
  },
  {
   "cell_type": "code",
   "execution_count": 8,
   "id": "6b836d5a",
   "metadata": {},
   "outputs": [],
   "source": [
    "df.loc[df['max_order'] > 40, 'loyalty_flag'] = 'Loyal customer'"
   ]
  },
  {
   "cell_type": "markdown",
   "id": "af3d7ea0",
   "metadata": {},
   "source": [
    "## Question 5 - Marketing team wants to know spending habits of the three groups"
   ]
  },
  {
   "cell_type": "code",
   "execution_count": 9,
   "id": "11f556dc",
   "metadata": {},
   "outputs": [
    {
     "data": {
      "text/html": [
       "<div>\n",
       "<style scoped>\n",
       "    .dataframe tbody tr th:only-of-type {\n",
       "        vertical-align: middle;\n",
       "    }\n",
       "\n",
       "    .dataframe tbody tr th {\n",
       "        vertical-align: top;\n",
       "    }\n",
       "\n",
       "    .dataframe thead tr th {\n",
       "        text-align: left;\n",
       "    }\n",
       "\n",
       "    .dataframe thead tr:last-of-type th {\n",
       "        text-align: right;\n",
       "    }\n",
       "</style>\n",
       "<table border=\"1\" class=\"dataframe\">\n",
       "  <thead>\n",
       "    <tr>\n",
       "      <th></th>\n",
       "      <th colspan=\"3\" halign=\"left\">prices</th>\n",
       "    </tr>\n",
       "    <tr>\n",
       "      <th></th>\n",
       "      <th>mean</th>\n",
       "      <th>min</th>\n",
       "      <th>max</th>\n",
       "    </tr>\n",
       "    <tr>\n",
       "      <th>loyalty_flag</th>\n",
       "      <th></th>\n",
       "      <th></th>\n",
       "      <th></th>\n",
       "    </tr>\n",
       "  </thead>\n",
       "  <tbody>\n",
       "    <tr>\n",
       "      <th>Loyal customer</th>\n",
       "      <td>10.377144</td>\n",
       "      <td>1.0</td>\n",
       "      <td>99999.0</td>\n",
       "    </tr>\n",
       "    <tr>\n",
       "      <th>New customer</th>\n",
       "      <td>13.208437</td>\n",
       "      <td>1.0</td>\n",
       "      <td>99999.0</td>\n",
       "    </tr>\n",
       "    <tr>\n",
       "      <th>Regular Customer</th>\n",
       "      <td>12.616225</td>\n",
       "      <td>1.0</td>\n",
       "      <td>99999.0</td>\n",
       "    </tr>\n",
       "  </tbody>\n",
       "</table>\n",
       "</div>"
      ],
      "text/plain": [
       "                     prices              \n",
       "                       mean  min      max\n",
       "loyalty_flag                             \n",
       "Loyal customer    10.377144  1.0  99999.0\n",
       "New customer      13.208437  1.0  99999.0\n",
       "Regular Customer  12.616225  1.0  99999.0"
      ]
     },
     "execution_count": 9,
     "metadata": {},
     "output_type": "execute_result"
    }
   ],
   "source": [
    "# Pulling statistical information based on our customer groups we defined\n",
    "df.groupby('loyalty_flag').agg({'prices':['mean','min','max']})"
   ]
  },
  {
   "cell_type": "markdown",
   "id": "407531a2",
   "metadata": {},
   "source": [
    "### Spending habits among the three groups are similar, however, Newer customers spend more on items while Loyal customers spend the least. Max value seems to have an error as all three categories show a purchase of 99,999"
   ]
  },
  {
   "cell_type": "markdown",
   "id": "7d6c5ade",
   "metadata": {},
   "source": [
    "## Question 6 -  Create a spending flag based on average price spent on orders"
   ]
  },
  {
   "cell_type": "code",
   "execution_count": 10,
   "id": "139e3171",
   "metadata": {},
   "outputs": [],
   "source": [
    "# Creating a new column with avg_spent to be used for creating our spending_flags\n",
    "df['avg_spent'] = df.groupby(['user_id'])['prices'].transform(np.mean)"
   ]
  },
  {
   "cell_type": "code",
   "execution_count": 11,
   "id": "4bbc9113",
   "metadata": {},
   "outputs": [
    {
     "data": {
      "text/html": [
       "<div>\n",
       "<style scoped>\n",
       "    .dataframe tbody tr th:only-of-type {\n",
       "        vertical-align: middle;\n",
       "    }\n",
       "\n",
       "    .dataframe tbody tr th {\n",
       "        vertical-align: top;\n",
       "    }\n",
       "\n",
       "    .dataframe thead tr th {\n",
       "        text-align: left;\n",
       "    }\n",
       "\n",
       "    .dataframe thead tr:last-of-type th {\n",
       "        text-align: right;\n",
       "    }\n",
       "</style>\n",
       "<table border=\"1\" class=\"dataframe\">\n",
       "  <thead>\n",
       "    <tr>\n",
       "      <th></th>\n",
       "      <th colspan=\"3\" halign=\"left\">avg_spent</th>\n",
       "    </tr>\n",
       "    <tr>\n",
       "      <th></th>\n",
       "      <th>mean</th>\n",
       "      <th>min</th>\n",
       "      <th>max</th>\n",
       "    </tr>\n",
       "    <tr>\n",
       "      <th>user_id</th>\n",
       "      <th></th>\n",
       "      <th></th>\n",
       "      <th></th>\n",
       "    </tr>\n",
       "  </thead>\n",
       "  <tbody>\n",
       "    <tr>\n",
       "      <th>1</th>\n",
       "      <td>6.367797</td>\n",
       "      <td>6.367797</td>\n",
       "      <td>6.367797</td>\n",
       "    </tr>\n",
       "    <tr>\n",
       "      <th>2</th>\n",
       "      <td>7.515897</td>\n",
       "      <td>7.515897</td>\n",
       "      <td>7.515897</td>\n",
       "    </tr>\n",
       "    <tr>\n",
       "      <th>3</th>\n",
       "      <td>8.197727</td>\n",
       "      <td>8.197727</td>\n",
       "      <td>8.197727</td>\n",
       "    </tr>\n",
       "    <tr>\n",
       "      <th>4</th>\n",
       "      <td>8.205556</td>\n",
       "      <td>8.205556</td>\n",
       "      <td>8.205556</td>\n",
       "    </tr>\n",
       "    <tr>\n",
       "      <th>5</th>\n",
       "      <td>9.189189</td>\n",
       "      <td>9.189189</td>\n",
       "      <td>9.189189</td>\n",
       "    </tr>\n",
       "    <tr>\n",
       "      <th>...</th>\n",
       "      <td>...</td>\n",
       "      <td>...</td>\n",
       "      <td>...</td>\n",
       "    </tr>\n",
       "    <tr>\n",
       "      <th>206205</th>\n",
       "      <td>8.909375</td>\n",
       "      <td>8.909375</td>\n",
       "      <td>8.909375</td>\n",
       "    </tr>\n",
       "    <tr>\n",
       "      <th>206206</th>\n",
       "      <td>7.646667</td>\n",
       "      <td>7.646667</td>\n",
       "      <td>7.646667</td>\n",
       "    </tr>\n",
       "    <tr>\n",
       "      <th>206207</th>\n",
       "      <td>7.313453</td>\n",
       "      <td>7.313453</td>\n",
       "      <td>7.313453</td>\n",
       "    </tr>\n",
       "    <tr>\n",
       "      <th>206208</th>\n",
       "      <td>8.366617</td>\n",
       "      <td>8.366617</td>\n",
       "      <td>8.366617</td>\n",
       "    </tr>\n",
       "    <tr>\n",
       "      <th>206209</th>\n",
       "      <td>7.058915</td>\n",
       "      <td>7.058915</td>\n",
       "      <td>7.058915</td>\n",
       "    </tr>\n",
       "  </tbody>\n",
       "</table>\n",
       "<p>206209 rows × 3 columns</p>\n",
       "</div>"
      ],
      "text/plain": [
       "        avg_spent                    \n",
       "             mean       min       max\n",
       "user_id                              \n",
       "1        6.367797  6.367797  6.367797\n",
       "2        7.515897  7.515897  7.515897\n",
       "3        8.197727  8.197727  8.197727\n",
       "4        8.205556  8.205556  8.205556\n",
       "5        9.189189  9.189189  9.189189\n",
       "...           ...       ...       ...\n",
       "206205   8.909375  8.909375  8.909375\n",
       "206206   7.646667  7.646667  7.646667\n",
       "206207   7.313453  7.313453  7.313453\n",
       "206208   8.366617  8.366617  8.366617\n",
       "206209   7.058915  7.058915  7.058915\n",
       "\n",
       "[206209 rows x 3 columns]"
      ]
     },
     "execution_count": 11,
     "metadata": {},
     "output_type": "execute_result"
    }
   ],
   "source": [
    "# Checking to ensure that our transform() created an average_spent across all orders, and only one value was inputed\n",
    "# Since all 3 categories of statistical info is the same, the function was successful\n",
    "df.groupby('user_id').agg({'avg_spent':['mean','min','max']})"
   ]
  },
  {
   "cell_type": "markdown",
   "id": "c2b7317e",
   "metadata": {},
   "source": [
    "##### Creating our spender_flags"
   ]
  },
  {
   "cell_type": "code",
   "execution_count": 12,
   "id": "3ac46be3",
   "metadata": {},
   "outputs": [],
   "source": [
    "df.loc[df['avg_spent'] < 10, 'spender_flag'] = 'Low spender'"
   ]
  },
  {
   "cell_type": "code",
   "execution_count": 13,
   "id": "0225168b",
   "metadata": {},
   "outputs": [],
   "source": [
    "df.loc[df['avg_spent'] >= 10, 'spender_flag'] = 'High spender'"
   ]
  },
  {
   "cell_type": "code",
   "execution_count": 14,
   "id": "c7e87bac",
   "metadata": {},
   "outputs": [
    {
     "data": {
      "text/plain": [
       "Low spender     32001268\n",
       "High spender      640000\n",
       "Name: spender_flag, dtype: int64"
      ]
     },
     "execution_count": 14,
     "metadata": {},
     "output_type": "execute_result"
    }
   ],
   "source": [
    "# Checking flag_counts to ensure they match our rows\n",
    "df['spender_flag'].value_counts()"
   ]
  },
  {
   "cell_type": "markdown",
   "id": "6a4859c0",
   "metadata": {},
   "source": [
    "## Question 7 - Creating frequency_flags to send notifications to customers who haven't ordered recently"
   ]
  },
  {
   "cell_type": "code",
   "execution_count": 15,
   "id": "26947616",
   "metadata": {},
   "outputs": [],
   "source": [
    "# Creating our new column\n",
    "df['order_frequency'] = df.groupby(['user_id'])['days_since_prior_order'].transform(np.median)"
   ]
  },
  {
   "cell_type": "markdown",
   "id": "7202cb1a",
   "metadata": {},
   "source": [
    "##### Creaing our frequency_flags"
   ]
  },
  {
   "cell_type": "code",
   "execution_count": 16,
   "id": "f4bb2e56",
   "metadata": {},
   "outputs": [],
   "source": [
    "df.loc[df['order_frequency'] < 20, 'frequency_flag'] = 'Non-frequent customer'"
   ]
  },
  {
   "cell_type": "code",
   "execution_count": 17,
   "id": "241d505f",
   "metadata": {},
   "outputs": [],
   "source": [
    "df.loc[(df['order_frequency'] > 10) & (df['order_frequency'] <= 20), 'frequency_flag'] = 'Regular customer'"
   ]
  },
  {
   "cell_type": "code",
   "execution_count": 18,
   "id": "9a0611e7",
   "metadata": {},
   "outputs": [],
   "source": [
    "df.loc[df['order_frequency'] >= 10, 'frequency_flag'] = 'Frequent customer'"
   ]
  },
  {
   "cell_type": "code",
   "execution_count": 19,
   "id": "7bf80da6",
   "metadata": {},
   "outputs": [
    {
     "data": {
      "text/plain": [
       "Non-frequent customer    20355757\n",
       "Frequent customer        12285511\n",
       "Name: frequency_flag, dtype: int64"
      ]
     },
     "execution_count": 19,
     "metadata": {},
     "output_type": "execute_result"
    }
   ],
   "source": [
    "# Checking flag_counts to ensure they match our rows\n",
    "df['frequency_flag'].value_counts()"
   ]
  },
  {
   "cell_type": "markdown",
   "id": "e83a281c",
   "metadata": {},
   "source": [
    "## Question 8 - Export"
   ]
  },
  {
   "cell_type": "code",
   "execution_count": 21,
   "id": "0128cfc4",
   "metadata": {},
   "outputs": [],
   "source": [
    "df.to_pickle(os.path.join(path, '02 Data', 'Prepared Data', 'ords_prods_merg_flag.pkl'))"
   ]
  },
  {
   "cell_type": "code",
   "execution_count": null,
   "id": "14ccb1ed",
   "metadata": {},
   "outputs": [],
   "source": []
  }
 ],
 "metadata": {
  "kernelspec": {
   "display_name": "Python 3",
   "language": "python",
   "name": "python3"
  },
  "language_info": {
   "codemirror_mode": {
    "name": "ipython",
    "version": 3
   },
   "file_extension": ".py",
   "mimetype": "text/x-python",
   "name": "python",
   "nbconvert_exporter": "python",
   "pygments_lexer": "ipython3",
   "version": "3.8.8"
  }
 },
 "nbformat": 4,
 "nbformat_minor": 5
}
