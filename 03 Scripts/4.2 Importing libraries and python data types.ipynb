{
 "cells": [
  {
   "cell_type": "markdown",
   "id": "7b799038",
   "metadata": {},
   "source": [
    "# 4.2 Importin libraries and python data types"
   ]
  },
  {
   "cell_type": "markdown",
   "id": "8d6e0ad4",
   "metadata": {},
   "source": [
    "#### Importing libraries"
   ]
  },
  {
   "cell_type": "code",
   "execution_count": 2,
   "id": "643fcf5f",
   "metadata": {},
   "outputs": [],
   "source": [
    "#running this will install both libraries 'pandas' and 'numpy'\n",
    "import pandas as pd\n",
    "import numpy as np\n",
    "import os"
   ]
  },
  {
   "cell_type": "markdown",
   "id": "ffbd0d36",
   "metadata": {},
   "source": [
    "##### Codes bellow are for working with data types"
   ]
  },
  {
   "cell_type": "code",
   "execution_count": 3,
   "id": "df3ce699",
   "metadata": {},
   "outputs": [
    {
     "data": {
      "text/plain": [
       "100"
      ]
     },
     "execution_count": 3,
     "metadata": {},
     "output_type": "execute_result"
    }
   ],
   "source": [
    "x = 50\n",
    "y = 49\n",
    "z = 1\n",
    "x + y + z"
   ]
  },
  {
   "cell_type": "code",
   "execution_count": 4,
   "id": "9060eead",
   "metadata": {},
   "outputs": [
    {
     "data": {
      "text/plain": [
       "100"
      ]
     },
     "execution_count": 4,
     "metadata": {},
     "output_type": "execute_result"
    }
   ],
   "source": [
    "x = 25\n",
    "x * 4"
   ]
  },
  {
   "cell_type": "code",
   "execution_count": 9,
   "id": "d5c3a14d",
   "metadata": {},
   "outputs": [
    {
     "data": {
      "text/plain": [
       "100"
      ]
     },
     "execution_count": 9,
     "metadata": {},
     "output_type": "execute_result"
    }
   ],
   "source": [
    "x = 6\n",
    "y = 20\n",
    "x * y - y"
   ]
  },
  {
   "cell_type": "code",
   "execution_count": 11,
   "id": "136256e7",
   "metadata": {},
   "outputs": [
    {
     "data": {
      "text/plain": [
       "13.331111111111111"
      ]
     },
     "execution_count": 11,
     "metadata": {},
     "output_type": "execute_result"
    }
   ],
   "source": [
    "x = 59.99\n",
    "y = 4.5\n",
    "x / y"
   ]
  },
  {
   "cell_type": "code",
   "execution_count": 16,
   "id": "cbc575c2",
   "metadata": {},
   "outputs": [
    {
     "data": {
      "text/plain": [
       "'Python'"
      ]
     },
     "execution_count": 16,
     "metadata": {},
     "output_type": "execute_result"
    }
   ],
   "source": [
    "p = 'P'\n",
    "y = 'y'\n",
    "t = 't'\n",
    "h = 'h'\n",
    "o = 'o'\n",
    "n = 'n'\n",
    "p + y + t + h + o + n"
   ]
  },
  {
   "cell_type": "code",
   "execution_count": 15,
   "id": "916454eb",
   "metadata": {},
   "outputs": [
    {
     "data": {
      "text/plain": [
       "'Python is interesting to work with!'"
      ]
     },
     "execution_count": 15,
     "metadata": {},
     "output_type": "execute_result"
    }
   ],
   "source": [
    "a = 'Python '\n",
    "b = 'is '\n",
    "c = 'interesting '\n",
    "d = 'to '\n",
    "e = 'work '\n",
    "f = 'with!'\n",
    "a + b + c + d + e + f"
   ]
  },
  {
   "cell_type": "code",
   "execution_count": 18,
   "id": "622b0dbe",
   "metadata": {},
   "outputs": [
    {
     "data": {
      "text/plain": [
       "\"I've worked with Pycharm before!\""
      ]
     },
     "execution_count": 18,
     "metadata": {},
     "output_type": "execute_result"
    }
   ],
   "source": [
    "a = \"I've \"\n",
    "b = \"worked \"\n",
    "c = \"with \"\n",
    "d = \"Pycharm \"\n",
    "e = \"before!\"\n",
    "a + b + c + d + e"
   ]
  },
  {
   "cell_type": "code",
   "execution_count": 19,
   "id": "9c3d2a30",
   "metadata": {},
   "outputs": [
    {
     "data": {
      "text/plain": [
       "'applepieapplepieapplepieapplepieapplepieapplepieapplepieapplepieapplepieapplepieapplepieapplepieapplepieapplepieapplepieapplepieapplepieapplepieapplepieapplepieapplepieapplepieapplepieapplepieapplepieapplepieapplepieapplepieapplepieapplepieapplepieapplepieapplepieapplepieapplepieapplepieapplepieapplepieapplepieapplepieapplepieapplepieapplepieapplepieapplepieapplepieapplepieapplepieapplepieapplepieapplepieapplepieapplepieapplepieapplepieapplepieapplepieapplepieapplepieapplepieapplepieapplepieapplepieapplepieapplepieapplepieapplepieapplepieapplepieapplepieapplepieapplepieapplepieapplepieapplepieapplepieapplepieapplepieapplepieapplepieapplepieapplepieapplepieapplepieapplepieapplepieapplepieapplepieapplepieapplepieapplepieapplepieapplepieapplepieapplepieapplepieapplepieapplepieapplepieapplepie'"
      ]
     },
     "execution_count": 19,
     "metadata": {},
     "output_type": "execute_result"
    }
   ],
   "source": [
    "a = \"applepie\"\n",
    "b = 100\n",
    "a * b"
   ]
  },
  {
   "cell_type": "code",
   "execution_count": 33,
   "id": "713d1c1f",
   "metadata": {},
   "outputs": [
    {
     "name": "stdout",
     "output_type": "stream",
     "text": [
      "Apple pie is delecious\n",
      "I serve no purpose\n"
     ]
    }
   ],
   "source": [
    "applepie = 1\n",
    "if applepie <5:\n",
    "    print(\"Apple pie is delecious\")\n",
    "else:\n",
    "    print(\"Cherry pie is also really good\")\n",
    "    \n",
    "print(\"I serve no purpose\")"
   ]
  },
  {
   "cell_type": "code",
   "execution_count": null,
   "id": "04092e2d",
   "metadata": {},
   "outputs": [],
   "source": []
  }
 ],
 "metadata": {
  "kernelspec": {
   "display_name": "Python 3",
   "language": "python",
   "name": "python3"
  },
  "language_info": {
   "codemirror_mode": {
    "name": "ipython",
    "version": 3
   },
   "file_extension": ".py",
   "mimetype": "text/x-python",
   "name": "python",
   "nbconvert_exporter": "python",
   "pygments_lexer": "ipython3",
   "version": "3.8.8"
  }
 },
 "nbformat": 4,
 "nbformat_minor": 5
}
