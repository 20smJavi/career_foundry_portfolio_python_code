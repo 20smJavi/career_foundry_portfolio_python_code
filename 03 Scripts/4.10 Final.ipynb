{
 "cells": [
  {
   "cell_type": "markdown",
   "id": "2a4f9b7a",
   "metadata": {},
   "source": [
    "## Table of Contents\n",
    "#### 01. Importing Libraries and Data\n",
    "#### 02. Question 2 - Scurity implications\n",
    "#### 03. Question 3 - Comparing behavior in geographic areas\n",
    "#### 04. Question 4 - Exlusion flags\n",
    "#### 05. Question 5 - Customer profiles\n",
    "#### 06. Creating a new data frame for statistical analysis\n",
    "#### 07. Question 6 - Visualizations on profiles\n",
    "#### 08. Question 7 - Aggreagations (min,max,mode,median)\n",
    "#### 09. Question 8 - Crosstabs (Region/Department by Profiles)\n",
    "#### 10. Question 9 -  Visualizations on our findings\n",
    "#### 11. Exporting"
   ]
  },
  {
   "cell_type": "markdown",
   "id": "c7a4a772",
   "metadata": {},
   "source": [
    "## 01. Importing Libraries and Data"
   ]
  },
  {
   "cell_type": "code",
   "execution_count": 1,
   "id": "bba8364b",
   "metadata": {},
   "outputs": [],
   "source": [
    "# Importing libraries\n",
    "import pandas as pd\n",
    "import numpy as np\n",
    "import os\n",
    "import matplotlib.pyplot as plt\n",
    "import seaborn as sns\n",
    "import scipy"
   ]
  },
  {
   "cell_type": "code",
   "execution_count": 2,
   "id": "c279fc1f",
   "metadata": {},
   "outputs": [],
   "source": [
    "# Importing Data\n",
    "path = r'C:\\Users\\javir\\Downloads\\Javis Data Analytics stuff\\Achievement 4\\Instacart Basket Analysis'\n",
    "df = pd.read_pickle(os.path.join(path,'02 Data', 'Prepared Data', 'cust_combined.pkl'))"
   ]
  },
  {
   "cell_type": "markdown",
   "id": "de766ec3",
   "metadata": {},
   "source": [
    "## 02. Question 2 - Consider any security implications for this new data, address any PII"
   ]
  },
  {
   "cell_type": "markdown",
   "id": "5b206b45",
   "metadata": {},
   "source": [
    "We the addition of the Customer related info, we now have their First and Last name attached to user_id so anyone malicious enough could track customers ordering, we also are provided with sensative information such as: Income, Martial Status, State of home address, gender/sex, etc. This information would be considered PII (personally identifiable information), however, this information was fabricated for the purpose of education, so this information does not tie to any individuals that may exist and we can disregard it."
   ]
  },
  {
   "cell_type": "markdown",
   "id": "6a9f294e",
   "metadata": {},
   "source": [
    "## 03. Question 3 - Comparing customer behavior in different geographic areas."
   ]
  },
  {
   "cell_type": "markdown",
   "id": "b8e33673",
   "metadata": {},
   "source": [
    "We will need to create a region column based off the state column"
   ]
  },
  {
   "cell_type": "markdown",
   "id": "234fe264",
   "metadata": {},
   "source": [
    "We will create lists based off the regions and will will the list with values of those states for the region"
   ]
  },
  {
   "cell_type": "code",
   "execution_count": 3,
   "id": "16f5d9fd",
   "metadata": {},
   "outputs": [],
   "source": [
    "north_east = ['Maine','New Hampshire','Vermont','Massachusetts','Rhode Island','Connecticut','New York','Pennsylvania','New Jersey']"
   ]
  },
  {
   "cell_type": "code",
   "execution_count": 4,
   "id": "f05aa432",
   "metadata": {},
   "outputs": [],
   "source": [
    "mid_west = ['Wisconsin','Michigan','Illinois','Indiana','Ohio','North Dakota','South Dakota','Nebraska','Kansas','Minnesota','Iowa','Missouri']"
   ]
  },
  {
   "cell_type": "code",
   "execution_count": 5,
   "id": "54ff8daa",
   "metadata": {},
   "outputs": [],
   "source": [
    "south = ['Delaware','Maryland','District of Columbia','Virginia','West Virginia','North Carolina','South Carolina','Georgia','Florida','Kentucky','Tennessee','Mississippi','Alabama','Oklahoma','Texas','Arkansas','Louisiana']"
   ]
  },
  {
   "cell_type": "code",
   "execution_count": 6,
   "id": "8ae80faa",
   "metadata": {},
   "outputs": [],
   "source": [
    "west = ['Idaho','Montana','Wyoming','Nevada','Utah','Colorado','Arizona','New Mexico','Alaska','Washington','Oregon','California','Hawaii']"
   ]
  },
  {
   "cell_type": "markdown",
   "id": "521f509f",
   "metadata": {},
   "source": [
    "#### Now we wil use a for-loop to check state column and refrence the lists we made and return values for the region"
   ]
  },
  {
   "cell_type": "code",
   "execution_count": 7,
   "id": "4bfc2666",
   "metadata": {},
   "outputs": [],
   "source": [
    "region = []\n",
    "\n",
    "for value in df[\"state\"]:\n",
    "  if value in north_east:\n",
    "    region.append('North East')\n",
    "  elif value in mid_west:\n",
    "    region.append('Mid West')\n",
    "  elif value in south:\n",
    "    region.append('South')\n",
    "  elif value in west:\n",
    "    region.append('West')\n",
    "  else:\n",
    "    region.append('NaN')"
   ]
  },
  {
   "cell_type": "code",
   "execution_count": 8,
   "id": "e48ef84c",
   "metadata": {
    "scrolled": true
   },
   "outputs": [
    {
     "data": {
      "text/plain": [
       "['South',\n",
       " 'South',\n",
       " 'South',\n",
       " 'South',\n",
       " 'South',\n",
       " 'South',\n",
       " 'South',\n",
       " 'South',\n",
       " 'South',\n",
       " 'South',\n",
       " 'South',\n",
       " 'South',\n",
       " 'South',\n",
       " 'South',\n",
       " 'South',\n",
       " 'South',\n",
       " 'South',\n",
       " 'South',\n",
       " 'South',\n",
       " 'South',\n",
       " 'South',\n",
       " 'South',\n",
       " 'South',\n",
       " 'South',\n",
       " 'South',\n",
       " 'South',\n",
       " 'South',\n",
       " 'South',\n",
       " 'South',\n",
       " 'South',\n",
       " 'South',\n",
       " 'South',\n",
       " 'South',\n",
       " 'South',\n",
       " 'South',\n",
       " 'South',\n",
       " 'South',\n",
       " 'South',\n",
       " 'South',\n",
       " 'South',\n",
       " 'South',\n",
       " 'South',\n",
       " 'South',\n",
       " 'South',\n",
       " 'South',\n",
       " 'South',\n",
       " 'South',\n",
       " 'South',\n",
       " 'South',\n",
       " 'South',\n",
       " 'South',\n",
       " 'South',\n",
       " 'South',\n",
       " 'South',\n",
       " 'South',\n",
       " 'South',\n",
       " 'South',\n",
       " 'South',\n",
       " 'South',\n",
       " 'South',\n",
       " 'West',\n",
       " 'West',\n",
       " 'West',\n",
       " 'West',\n",
       " 'West',\n",
       " 'West',\n",
       " 'West',\n",
       " 'West',\n",
       " 'West',\n",
       " 'West',\n",
       " 'West',\n",
       " 'West',\n",
       " 'West',\n",
       " 'West',\n",
       " 'West',\n",
       " 'West',\n",
       " 'West',\n",
       " 'West',\n",
       " 'West',\n",
       " 'West',\n",
       " 'West',\n",
       " 'West',\n",
       " 'West',\n",
       " 'West',\n",
       " 'West',\n",
       " 'West',\n",
       " 'West',\n",
       " 'West',\n",
       " 'West',\n",
       " 'West',\n",
       " 'West',\n",
       " 'West',\n",
       " 'West',\n",
       " 'West',\n",
       " 'West',\n",
       " 'West',\n",
       " 'West',\n",
       " 'West',\n",
       " 'West',\n",
       " 'West',\n",
       " 'West',\n",
       " 'West',\n",
       " 'West',\n",
       " 'West',\n",
       " 'West',\n",
       " 'West',\n",
       " 'West',\n",
       " 'West',\n",
       " 'West',\n",
       " 'West',\n",
       " 'West',\n",
       " 'West',\n",
       " 'West',\n",
       " 'West',\n",
       " 'West',\n",
       " 'West',\n",
       " 'West',\n",
       " 'West',\n",
       " 'West',\n",
       " 'West',\n",
       " 'West',\n",
       " 'West',\n",
       " 'West',\n",
       " 'West',\n",
       " 'West',\n",
       " 'West',\n",
       " 'West',\n",
       " 'West',\n",
       " 'West',\n",
       " 'West',\n",
       " 'West',\n",
       " 'West',\n",
       " 'West',\n",
       " 'West',\n",
       " 'West',\n",
       " 'West',\n",
       " 'West',\n",
       " 'West',\n",
       " 'West',\n",
       " 'West',\n",
       " 'West',\n",
       " 'West',\n",
       " 'West',\n",
       " 'West',\n",
       " 'West',\n",
       " 'West',\n",
       " 'West',\n",
       " 'West',\n",
       " 'West',\n",
       " 'West',\n",
       " 'West',\n",
       " 'West',\n",
       " 'West',\n",
       " 'West',\n",
       " 'West',\n",
       " 'West',\n",
       " 'West',\n",
       " 'West',\n",
       " 'West',\n",
       " 'West',\n",
       " 'West',\n",
       " 'West',\n",
       " 'West',\n",
       " 'West',\n",
       " 'West',\n",
       " 'West',\n",
       " 'West',\n",
       " 'West',\n",
       " 'West',\n",
       " 'West',\n",
       " 'West',\n",
       " 'West',\n",
       " 'West',\n",
       " 'West',\n",
       " 'West',\n",
       " 'West',\n",
       " 'West',\n",
       " 'West',\n",
       " 'West',\n",
       " 'West',\n",
       " 'West',\n",
       " 'West',\n",
       " 'West',\n",
       " 'West',\n",
       " 'West',\n",
       " 'West',\n",
       " 'West',\n",
       " 'West',\n",
       " 'West',\n",
       " 'West',\n",
       " 'West',\n",
       " 'West',\n",
       " 'West',\n",
       " 'West',\n",
       " 'West',\n",
       " 'West',\n",
       " 'West',\n",
       " 'West',\n",
       " 'West',\n",
       " 'West',\n",
       " 'West',\n",
       " 'West',\n",
       " 'West',\n",
       " 'West',\n",
       " 'West',\n",
       " 'West',\n",
       " 'West',\n",
       " 'West',\n",
       " 'West',\n",
       " 'West',\n",
       " 'West',\n",
       " 'West',\n",
       " 'West',\n",
       " 'West',\n",
       " 'West',\n",
       " 'West',\n",
       " 'West',\n",
       " 'West',\n",
       " 'West',\n",
       " 'West',\n",
       " 'West',\n",
       " 'West',\n",
       " 'West',\n",
       " 'West',\n",
       " 'West',\n",
       " 'West',\n",
       " 'West',\n",
       " 'West',\n",
       " 'West',\n",
       " 'West',\n",
       " 'West',\n",
       " 'West',\n",
       " 'West',\n",
       " 'West',\n",
       " 'West',\n",
       " 'West',\n",
       " 'West',\n",
       " 'West',\n",
       " 'West',\n",
       " 'West',\n",
       " 'West',\n",
       " 'West',\n",
       " 'West',\n",
       " 'West',\n",
       " 'West',\n",
       " 'West',\n",
       " 'West',\n",
       " 'West',\n",
       " 'West',\n",
       " 'West',\n",
       " 'West',\n",
       " 'West',\n",
       " 'West',\n",
       " 'West',\n",
       " 'West',\n",
       " 'West',\n",
       " 'West',\n",
       " 'West',\n",
       " 'West',\n",
       " 'West',\n",
       " 'West',\n",
       " 'West',\n",
       " 'West',\n",
       " 'West',\n",
       " 'West',\n",
       " 'West',\n",
       " 'West',\n",
       " 'West',\n",
       " 'West',\n",
       " 'West',\n",
       " 'West',\n",
       " 'West',\n",
       " 'West',\n",
       " 'West',\n",
       " 'West',\n",
       " 'West',\n",
       " 'West',\n",
       " 'West',\n",
       " 'West',\n",
       " 'West',\n",
       " 'West',\n",
       " 'West',\n",
       " 'West',\n",
       " 'West',\n",
       " 'West',\n",
       " 'West',\n",
       " 'West',\n",
       " 'West',\n",
       " 'West',\n",
       " 'West',\n",
       " 'West',\n",
       " 'West',\n",
       " 'West',\n",
       " 'West',\n",
       " 'West',\n",
       " 'West',\n",
       " 'West',\n",
       " 'West',\n",
       " 'West',\n",
       " 'West',\n",
       " 'West',\n",
       " 'West',\n",
       " 'West',\n",
       " 'West',\n",
       " 'West',\n",
       " 'West',\n",
       " 'West',\n",
       " 'West',\n",
       " 'West',\n",
       " 'West',\n",
       " 'West',\n",
       " 'West',\n",
       " 'West',\n",
       " 'West',\n",
       " 'West',\n",
       " 'West',\n",
       " 'West',\n",
       " 'West',\n",
       " 'West',\n",
       " 'West',\n",
       " 'West',\n",
       " 'West',\n",
       " 'West',\n",
       " 'West',\n",
       " 'West',\n",
       " 'West',\n",
       " 'West',\n",
       " 'West',\n",
       " 'West',\n",
       " 'West',\n",
       " 'West',\n",
       " 'West',\n",
       " 'West',\n",
       " 'West',\n",
       " 'West',\n",
       " 'West',\n",
       " 'West',\n",
       " 'West',\n",
       " 'West',\n",
       " 'West',\n",
       " 'West',\n",
       " 'West',\n",
       " 'West',\n",
       " 'West',\n",
       " 'West',\n",
       " 'South',\n",
       " 'South',\n",
       " 'South',\n",
       " 'South',\n",
       " 'South',\n",
       " 'South',\n",
       " 'South',\n",
       " 'South',\n",
       " 'South',\n",
       " 'South',\n",
       " 'South',\n",
       " 'South',\n",
       " 'South',\n",
       " 'South',\n",
       " 'South',\n",
       " 'South',\n",
       " 'South',\n",
       " 'South',\n",
       " 'South',\n",
       " 'West',\n",
       " 'West',\n",
       " 'West',\n",
       " 'West',\n",
       " 'West',\n",
       " 'West',\n",
       " 'West',\n",
       " 'West',\n",
       " 'West',\n",
       " 'West',\n",
       " 'West',\n",
       " 'West',\n",
       " 'West',\n",
       " 'West',\n",
       " 'West',\n",
       " 'West',\n",
       " 'West',\n",
       " 'West',\n",
       " 'West',\n",
       " 'West',\n",
       " 'West',\n",
       " 'West',\n",
       " 'West',\n",
       " 'West',\n",
       " 'West',\n",
       " 'West',\n",
       " 'West',\n",
       " 'West',\n",
       " 'West',\n",
       " 'West',\n",
       " 'West',\n",
       " 'West',\n",
       " 'West',\n",
       " 'West',\n",
       " 'West',\n",
       " 'West',\n",
       " 'West',\n",
       " 'West',\n",
       " 'West',\n",
       " 'West',\n",
       " 'West',\n",
       " 'West',\n",
       " 'West',\n",
       " 'West',\n",
       " 'West',\n",
       " 'West',\n",
       " 'West',\n",
       " 'West',\n",
       " 'West',\n",
       " 'West',\n",
       " 'West',\n",
       " 'West',\n",
       " 'West',\n",
       " 'North East',\n",
       " 'North East',\n",
       " 'North East',\n",
       " 'North East',\n",
       " 'North East',\n",
       " 'North East',\n",
       " 'North East',\n",
       " 'North East',\n",
       " 'North East',\n",
       " 'North East',\n",
       " 'North East',\n",
       " 'North East',\n",
       " 'North East',\n",
       " 'North East',\n",
       " 'North East',\n",
       " 'North East',\n",
       " 'North East',\n",
       " 'North East',\n",
       " 'North East',\n",
       " 'North East',\n",
       " 'North East',\n",
       " 'North East',\n",
       " 'North East',\n",
       " 'North East',\n",
       " 'North East',\n",
       " 'North East',\n",
       " 'North East',\n",
       " 'North East',\n",
       " 'North East',\n",
       " 'North East',\n",
       " 'North East',\n",
       " 'North East',\n",
       " 'North East',\n",
       " 'North East',\n",
       " 'North East',\n",
       " 'North East',\n",
       " 'North East',\n",
       " 'North East',\n",
       " 'North East',\n",
       " 'North East',\n",
       " 'North East',\n",
       " 'North East',\n",
       " 'North East',\n",
       " 'North East',\n",
       " 'North East',\n",
       " 'North East',\n",
       " 'North East',\n",
       " 'North East',\n",
       " 'North East',\n",
       " 'North East',\n",
       " 'North East',\n",
       " 'North East',\n",
       " 'North East',\n",
       " 'North East',\n",
       " 'North East',\n",
       " 'North East',\n",
       " 'North East',\n",
       " 'North East',\n",
       " 'North East',\n",
       " 'North East',\n",
       " 'North East',\n",
       " 'North East',\n",
       " 'North East',\n",
       " 'North East',\n",
       " 'North East',\n",
       " 'North East',\n",
       " 'North East',\n",
       " 'North East',\n",
       " 'North East',\n",
       " 'North East',\n",
       " 'North East',\n",
       " 'North East',\n",
       " 'North East',\n",
       " 'North East',\n",
       " 'North East',\n",
       " 'North East',\n",
       " 'North East',\n",
       " 'North East',\n",
       " 'North East',\n",
       " 'North East',\n",
       " 'North East',\n",
       " 'North East',\n",
       " 'North East',\n",
       " 'North East',\n",
       " 'North East',\n",
       " 'North East',\n",
       " 'North East',\n",
       " 'North East',\n",
       " 'North East',\n",
       " 'North East',\n",
       " 'North East',\n",
       " 'North East',\n",
       " 'North East',\n",
       " 'North East',\n",
       " 'North East',\n",
       " 'North East',\n",
       " 'North East',\n",
       " 'North East',\n",
       " 'North East',\n",
       " 'North East',\n",
       " 'North East',\n",
       " 'North East',\n",
       " 'North East',\n",
       " 'North East',\n",
       " 'North East',\n",
       " 'North East',\n",
       " 'North East',\n",
       " 'North East',\n",
       " 'North East',\n",
       " 'North East',\n",
       " 'North East',\n",
       " 'North East',\n",
       " 'North East',\n",
       " 'North East',\n",
       " 'North East',\n",
       " 'North East',\n",
       " 'North East',\n",
       " 'North East',\n",
       " 'North East',\n",
       " 'North East',\n",
       " 'North East',\n",
       " 'North East',\n",
       " 'North East',\n",
       " 'North East',\n",
       " 'North East',\n",
       " 'North East',\n",
       " 'North East',\n",
       " 'North East',\n",
       " 'North East',\n",
       " 'North East',\n",
       " 'North East',\n",
       " 'North East',\n",
       " 'North East',\n",
       " 'North East',\n",
       " 'North East',\n",
       " 'North East',\n",
       " 'North East',\n",
       " 'North East',\n",
       " 'North East',\n",
       " 'North East',\n",
       " 'North East',\n",
       " 'North East',\n",
       " 'North East',\n",
       " 'North East',\n",
       " 'North East',\n",
       " 'North East',\n",
       " 'North East',\n",
       " 'North East',\n",
       " 'North East',\n",
       " 'North East',\n",
       " 'North East',\n",
       " 'North East',\n",
       " 'North East',\n",
       " 'North East',\n",
       " 'North East',\n",
       " 'North East',\n",
       " 'North East',\n",
       " 'North East',\n",
       " 'North East',\n",
       " 'North East',\n",
       " 'North East',\n",
       " 'North East',\n",
       " 'North East',\n",
       " 'North East',\n",
       " 'North East',\n",
       " 'North East',\n",
       " 'North East',\n",
       " 'North East',\n",
       " 'North East',\n",
       " 'North East',\n",
       " 'North East',\n",
       " 'North East',\n",
       " 'North East',\n",
       " 'North East',\n",
       " 'North East',\n",
       " 'North East',\n",
       " 'North East',\n",
       " 'North East',\n",
       " 'North East',\n",
       " 'North East',\n",
       " 'North East',\n",
       " 'North East',\n",
       " 'North East',\n",
       " 'North East',\n",
       " 'North East',\n",
       " 'North East',\n",
       " 'North East',\n",
       " 'North East',\n",
       " 'North East',\n",
       " 'North East',\n",
       " 'North East',\n",
       " 'North East',\n",
       " 'North East',\n",
       " 'North East',\n",
       " 'North East',\n",
       " 'North East',\n",
       " 'North East',\n",
       " 'North East',\n",
       " 'North East',\n",
       " 'North East',\n",
       " 'North East',\n",
       " 'North East',\n",
       " 'North East',\n",
       " 'North East',\n",
       " 'North East',\n",
       " 'North East',\n",
       " 'North East',\n",
       " 'South',\n",
       " 'South',\n",
       " 'South',\n",
       " 'South',\n",
       " 'South',\n",
       " 'South',\n",
       " 'South',\n",
       " 'South',\n",
       " 'South',\n",
       " 'South',\n",
       " 'South',\n",
       " 'South',\n",
       " 'South',\n",
       " 'South',\n",
       " 'South',\n",
       " 'South',\n",
       " 'South',\n",
       " 'South',\n",
       " 'South',\n",
       " 'South',\n",
       " 'South',\n",
       " 'South',\n",
       " 'South',\n",
       " 'South',\n",
       " 'South',\n",
       " 'South',\n",
       " 'South',\n",
       " 'South',\n",
       " 'South',\n",
       " 'South',\n",
       " 'South',\n",
       " 'South',\n",
       " 'South',\n",
       " 'South',\n",
       " 'South',\n",
       " 'South',\n",
       " 'South',\n",
       " 'South',\n",
       " 'South',\n",
       " 'South',\n",
       " 'South',\n",
       " 'South',\n",
       " 'South',\n",
       " 'South',\n",
       " 'South',\n",
       " 'South',\n",
       " 'South',\n",
       " 'South',\n",
       " 'South',\n",
       " 'South',\n",
       " 'South',\n",
       " 'South',\n",
       " 'South',\n",
       " 'South',\n",
       " 'South',\n",
       " 'South',\n",
       " 'South',\n",
       " 'South',\n",
       " 'South',\n",
       " 'South',\n",
       " 'South',\n",
       " 'South',\n",
       " 'South',\n",
       " 'South',\n",
       " 'South',\n",
       " 'South',\n",
       " 'South',\n",
       " 'South',\n",
       " 'South',\n",
       " 'South',\n",
       " 'South',\n",
       " 'South',\n",
       " 'South',\n",
       " 'South',\n",
       " 'South',\n",
       " 'South',\n",
       " 'South',\n",
       " 'South',\n",
       " 'South',\n",
       " 'South',\n",
       " 'South',\n",
       " 'South',\n",
       " 'South',\n",
       " 'South',\n",
       " 'South',\n",
       " 'South',\n",
       " 'South',\n",
       " 'South',\n",
       " 'South',\n",
       " 'South',\n",
       " 'South',\n",
       " 'South',\n",
       " 'South',\n",
       " 'South',\n",
       " 'South',\n",
       " 'South',\n",
       " 'South',\n",
       " 'South',\n",
       " 'South',\n",
       " 'South',\n",
       " 'South',\n",
       " 'South',\n",
       " 'South',\n",
       " 'South',\n",
       " 'South',\n",
       " 'South',\n",
       " 'South',\n",
       " 'South',\n",
       " 'South',\n",
       " 'South',\n",
       " 'South',\n",
       " 'South',\n",
       " 'South',\n",
       " 'South',\n",
       " 'South',\n",
       " 'South',\n",
       " 'South',\n",
       " 'South',\n",
       " 'South',\n",
       " 'South',\n",
       " 'South',\n",
       " 'South',\n",
       " 'South',\n",
       " 'South',\n",
       " 'South',\n",
       " 'South',\n",
       " 'South',\n",
       " 'South',\n",
       " 'South',\n",
       " 'South',\n",
       " 'South',\n",
       " 'South',\n",
       " 'South',\n",
       " 'South',\n",
       " 'South',\n",
       " 'South',\n",
       " 'South',\n",
       " 'South',\n",
       " 'South',\n",
       " 'South',\n",
       " 'South',\n",
       " 'South',\n",
       " 'South',\n",
       " 'South',\n",
       " 'South',\n",
       " 'South',\n",
       " 'South',\n",
       " 'South',\n",
       " 'South',\n",
       " 'South',\n",
       " 'South',\n",
       " 'South',\n",
       " 'South',\n",
       " 'South',\n",
       " 'South',\n",
       " 'South',\n",
       " 'South',\n",
       " 'South',\n",
       " 'South',\n",
       " 'South',\n",
       " 'South',\n",
       " 'South',\n",
       " 'South',\n",
       " 'South',\n",
       " 'South',\n",
       " 'South',\n",
       " 'South',\n",
       " 'South',\n",
       " 'South',\n",
       " 'South',\n",
       " 'South',\n",
       " 'South',\n",
       " 'South',\n",
       " 'South',\n",
       " 'South',\n",
       " 'South',\n",
       " 'South',\n",
       " 'South',\n",
       " 'South',\n",
       " 'South',\n",
       " 'South',\n",
       " 'South',\n",
       " 'South',\n",
       " 'South',\n",
       " 'South',\n",
       " 'South',\n",
       " 'South',\n",
       " 'South',\n",
       " 'South',\n",
       " 'South',\n",
       " 'South',\n",
       " 'South',\n",
       " 'South',\n",
       " 'South',\n",
       " 'South',\n",
       " 'South',\n",
       " 'South',\n",
       " 'South',\n",
       " 'South',\n",
       " 'South',\n",
       " 'South',\n",
       " 'South',\n",
       " 'South',\n",
       " 'South',\n",
       " 'South',\n",
       " 'South',\n",
       " 'South',\n",
       " 'South',\n",
       " 'South',\n",
       " 'South',\n",
       " 'South',\n",
       " 'South',\n",
       " 'South',\n",
       " 'South',\n",
       " 'South',\n",
       " 'South',\n",
       " 'South',\n",
       " 'South',\n",
       " 'South',\n",
       " 'South',\n",
       " 'South',\n",
       " 'South',\n",
       " 'South',\n",
       " 'South',\n",
       " 'South',\n",
       " 'South',\n",
       " 'South',\n",
       " 'South',\n",
       " 'South',\n",
       " 'South',\n",
       " 'South',\n",
       " 'South',\n",
       " 'South',\n",
       " 'South',\n",
       " 'South',\n",
       " 'South',\n",
       " 'South',\n",
       " 'South',\n",
       " 'South',\n",
       " 'South',\n",
       " 'South',\n",
       " 'South',\n",
       " 'South',\n",
       " 'South',\n",
       " 'South',\n",
       " 'South',\n",
       " 'South',\n",
       " 'South',\n",
       " 'South',\n",
       " 'South',\n",
       " 'South',\n",
       " 'South',\n",
       " 'South',\n",
       " 'South',\n",
       " 'South',\n",
       " 'South',\n",
       " 'South',\n",
       " 'South',\n",
       " 'South',\n",
       " 'South',\n",
       " 'South',\n",
       " 'South',\n",
       " 'South',\n",
       " 'South',\n",
       " 'South',\n",
       " 'South',\n",
       " 'South',\n",
       " 'South',\n",
       " 'South',\n",
       " 'South',\n",
       " 'South',\n",
       " 'South',\n",
       " 'South',\n",
       " 'South',\n",
       " 'South',\n",
       " 'South',\n",
       " 'South',\n",
       " 'South',\n",
       " 'South',\n",
       " 'South',\n",
       " 'South',\n",
       " 'South',\n",
       " 'South',\n",
       " 'South',\n",
       " 'South',\n",
       " 'South',\n",
       " 'South',\n",
       " 'South',\n",
       " 'South',\n",
       " 'South',\n",
       " 'South',\n",
       " 'South',\n",
       " 'South',\n",
       " 'South',\n",
       " 'South',\n",
       " 'South',\n",
       " 'South',\n",
       " 'South',\n",
       " 'South',\n",
       " 'South',\n",
       " 'South',\n",
       " 'South',\n",
       " 'South',\n",
       " 'South',\n",
       " 'South',\n",
       " 'South',\n",
       " 'South',\n",
       " 'South',\n",
       " 'South',\n",
       " 'South',\n",
       " 'South',\n",
       " 'South',\n",
       " 'South',\n",
       " 'South',\n",
       " 'South',\n",
       " 'South',\n",
       " 'South',\n",
       " 'South',\n",
       " 'South',\n",
       " 'South',\n",
       " 'South',\n",
       " 'South',\n",
       " 'South',\n",
       " 'South',\n",
       " 'South',\n",
       " 'South',\n",
       " 'South',\n",
       " 'South',\n",
       " 'South',\n",
       " 'South',\n",
       " 'South',\n",
       " 'South',\n",
       " 'South',\n",
       " 'South',\n",
       " 'South',\n",
       " 'South',\n",
       " 'South',\n",
       " 'South',\n",
       " 'South',\n",
       " 'South',\n",
       " 'South',\n",
       " 'South',\n",
       " 'South',\n",
       " 'South',\n",
       " 'South',\n",
       " 'South',\n",
       " 'South',\n",
       " 'South',\n",
       " 'South',\n",
       " 'South',\n",
       " 'South',\n",
       " 'South',\n",
       " 'South',\n",
       " 'South',\n",
       " 'South',\n",
       " 'South',\n",
       " 'South',\n",
       " 'South',\n",
       " 'South',\n",
       " 'South',\n",
       " 'South',\n",
       " 'South',\n",
       " 'South',\n",
       " 'South',\n",
       " 'South',\n",
       " 'South',\n",
       " 'West',\n",
       " 'West',\n",
       " 'West',\n",
       " 'West',\n",
       " 'West',\n",
       " 'West',\n",
       " 'West',\n",
       " 'West',\n",
       " 'West',\n",
       " 'West',\n",
       " ...]"
      ]
     },
     "execution_count": 8,
     "metadata": {},
     "output_type": "execute_result"
    }
   ],
   "source": [
    "# Cheking to see if values successfully outputted\n",
    "region"
   ]
  },
  {
   "cell_type": "code",
   "execution_count": 9,
   "id": "a65ed1be",
   "metadata": {},
   "outputs": [],
   "source": [
    "# Creating our region column and filling it with our new region list\n",
    "df['region'] = region"
   ]
  },
  {
   "cell_type": "code",
   "execution_count": 10,
   "id": "4993d321",
   "metadata": {},
   "outputs": [
    {
     "data": {
      "text/plain": [
       "South         10870719\n",
       "West           8353182\n",
       "Mid West       7652535\n",
       "North East     5764832\n",
       "Name: region, dtype: int64"
      ]
     },
     "execution_count": 10,
     "metadata": {},
     "output_type": "execute_result"
    }
   ],
   "source": [
    "# Checking value counts to ensure no NaN values have filled any rows\n",
    "df['region'].value_counts()"
   ]
  },
  {
   "cell_type": "code",
   "execution_count": 11,
   "id": "0fba03db",
   "metadata": {},
   "outputs": [],
   "source": [
    "# Creating a crosstab to check spending habits between the regions\n",
    "region_spend = pd.crosstab(df['region'],df['spender_flag'])"
   ]
  },
  {
   "cell_type": "code",
   "execution_count": 12,
   "id": "00dc7b28",
   "metadata": {
    "scrolled": true
   },
   "outputs": [
    {
     "data": {
      "text/html": [
       "<div>\n",
       "<style scoped>\n",
       "    .dataframe tbody tr th:only-of-type {\n",
       "        vertical-align: middle;\n",
       "    }\n",
       "\n",
       "    .dataframe tbody tr th {\n",
       "        vertical-align: top;\n",
       "    }\n",
       "\n",
       "    .dataframe thead th {\n",
       "        text-align: right;\n",
       "    }\n",
       "</style>\n",
       "<table border=\"1\" class=\"dataframe\">\n",
       "  <thead>\n",
       "    <tr style=\"text-align: right;\">\n",
       "      <th>spender_flag</th>\n",
       "      <th>High spender</th>\n",
       "      <th>Low spender</th>\n",
       "    </tr>\n",
       "    <tr>\n",
       "      <th>region</th>\n",
       "      <th></th>\n",
       "      <th></th>\n",
       "    </tr>\n",
       "  </thead>\n",
       "  <tbody>\n",
       "    <tr>\n",
       "      <th>Mid West</th>\n",
       "      <td>157347</td>\n",
       "      <td>7495188</td>\n",
       "    </tr>\n",
       "    <tr>\n",
       "      <th>North East</th>\n",
       "      <td>109140</td>\n",
       "      <td>5655692</td>\n",
       "    </tr>\n",
       "    <tr>\n",
       "      <th>South</th>\n",
       "      <td>211679</td>\n",
       "      <td>10659040</td>\n",
       "    </tr>\n",
       "    <tr>\n",
       "      <th>West</th>\n",
       "      <td>161834</td>\n",
       "      <td>8191348</td>\n",
       "    </tr>\n",
       "  </tbody>\n",
       "</table>\n",
       "</div>"
      ],
      "text/plain": [
       "spender_flag  High spender  Low spender\n",
       "region                                 \n",
       "Mid West            157347      7495188\n",
       "North East          109140      5655692\n",
       "South               211679     10659040\n",
       "West                161834      8191348"
      ]
     },
     "execution_count": 12,
     "metadata": {},
     "output_type": "execute_result"
    }
   ],
   "source": [
    "# Now we can check spending habits of all regions\n",
    "region_spend"
   ]
  },
  {
   "cell_type": "markdown",
   "id": "4e991ec3",
   "metadata": {},
   "source": [
    "We are able to see that the South has the highest count of high-spending customers as well as low-spending customers, this seems largely due to, through simple calculations, having the largest customer base"
   ]
  },
  {
   "cell_type": "code",
   "execution_count": 13,
   "id": "aef38376",
   "metadata": {
    "scrolled": true
   },
   "outputs": [
    {
     "data": {
      "text/html": [
       "<div>\n",
       "<style scoped>\n",
       "    .dataframe tbody tr th:only-of-type {\n",
       "        vertical-align: middle;\n",
       "    }\n",
       "\n",
       "    .dataframe tbody tr th {\n",
       "        vertical-align: top;\n",
       "    }\n",
       "\n",
       "    .dataframe thead tr th {\n",
       "        text-align: left;\n",
       "    }\n",
       "\n",
       "    .dataframe thead tr:last-of-type th {\n",
       "        text-align: right;\n",
       "    }\n",
       "</style>\n",
       "<table border=\"1\" class=\"dataframe\">\n",
       "  <thead>\n",
       "    <tr>\n",
       "      <th></th>\n",
       "      <th>order_number</th>\n",
       "    </tr>\n",
       "    <tr>\n",
       "      <th></th>\n",
       "      <th>sum</th>\n",
       "    </tr>\n",
       "    <tr>\n",
       "      <th>region</th>\n",
       "      <th></th>\n",
       "    </tr>\n",
       "  </thead>\n",
       "  <tbody>\n",
       "    <tr>\n",
       "      <th>Mid West</th>\n",
       "      <td>129497046</td>\n",
       "    </tr>\n",
       "    <tr>\n",
       "      <th>North East</th>\n",
       "      <td>99222910</td>\n",
       "    </tr>\n",
       "    <tr>\n",
       "      <th>South</th>\n",
       "      <td>186397284</td>\n",
       "    </tr>\n",
       "    <tr>\n",
       "      <th>West</th>\n",
       "      <td>144303856</td>\n",
       "    </tr>\n",
       "  </tbody>\n",
       "</table>\n",
       "</div>"
      ],
      "text/plain": [
       "           order_number\n",
       "                    sum\n",
       "region                 \n",
       "Mid West      129497046\n",
       "North East     99222910\n",
       "South         186397284\n",
       "West          144303856"
      ]
     },
     "execution_count": 13,
     "metadata": {},
     "output_type": "execute_result"
    }
   ],
   "source": [
    "df.groupby(['region']).agg({'order_number':['sum']})"
   ]
  },
  {
   "cell_type": "markdown",
   "id": "d0ecc094",
   "metadata": {},
   "source": [
    "The south have fourty million more orders than the next highest region"
   ]
  },
  {
   "cell_type": "code",
   "execution_count": 14,
   "id": "f31d400d",
   "metadata": {},
   "outputs": [
    {
     "data": {
      "text/html": [
       "<div>\n",
       "<style scoped>\n",
       "    .dataframe tbody tr th:only-of-type {\n",
       "        vertical-align: middle;\n",
       "    }\n",
       "\n",
       "    .dataframe tbody tr th {\n",
       "        vertical-align: top;\n",
       "    }\n",
       "\n",
       "    .dataframe thead tr th {\n",
       "        text-align: left;\n",
       "    }\n",
       "\n",
       "    .dataframe thead tr:last-of-type th {\n",
       "        text-align: right;\n",
       "    }\n",
       "</style>\n",
       "<table border=\"1\" class=\"dataframe\">\n",
       "  <thead>\n",
       "    <tr>\n",
       "      <th></th>\n",
       "      <th>prices</th>\n",
       "    </tr>\n",
       "    <tr>\n",
       "      <th></th>\n",
       "      <th>mean</th>\n",
       "    </tr>\n",
       "    <tr>\n",
       "      <th>region</th>\n",
       "      <th></th>\n",
       "    </tr>\n",
       "  </thead>\n",
       "  <tbody>\n",
       "    <tr>\n",
       "      <th>Mid West</th>\n",
       "      <td>12.715483</td>\n",
       "    </tr>\n",
       "    <tr>\n",
       "      <th>North East</th>\n",
       "      <td>11.554997</td>\n",
       "    </tr>\n",
       "    <tr>\n",
       "      <th>South</th>\n",
       "      <td>12.195577</td>\n",
       "    </tr>\n",
       "    <tr>\n",
       "      <th>West</th>\n",
       "      <td>11.319834</td>\n",
       "    </tr>\n",
       "  </tbody>\n",
       "</table>\n",
       "</div>"
      ],
      "text/plain": [
       "               prices\n",
       "                 mean\n",
       "region               \n",
       "Mid West    12.715483\n",
       "North East  11.554997\n",
       "South       12.195577\n",
       "West        11.319834"
      ]
     },
     "execution_count": 14,
     "metadata": {},
     "output_type": "execute_result"
    }
   ],
   "source": [
    "df.groupby(['region']).agg({'prices':['mean']})"
   ]
  },
  {
   "cell_type": "markdown",
   "id": "f0a21fca",
   "metadata": {},
   "source": [
    "Despite the much larger order numbers and customer count, the Mid West has a higher average price per order"
   ]
  },
  {
   "cell_type": "markdown",
   "id": "37d7e600",
   "metadata": {},
   "source": [
    "## 04. Question 4 - CFO wants an exclusion flag for customers with less than 5 orders and to exclude them from our data"
   ]
  },
  {
   "cell_type": "markdown",
   "id": "e4883a6d",
   "metadata": {},
   "source": [
    "We will create a new column for exclusion flags based on max_order"
   ]
  },
  {
   "cell_type": "code",
   "execution_count": 15,
   "id": "96fcce05",
   "metadata": {},
   "outputs": [],
   "source": [
    "# Creating our list that will fill our column\n",
    "exclusion = []\n",
    "\n",
    "for value in df['max_order']:\n",
    "  if value <= 5:\n",
    "    exclusion.append('Low')\n",
    "  else:\n",
    "    exclusion.append('Norm')"
   ]
  },
  {
   "cell_type": "code",
   "execution_count": 16,
   "id": "148a34d4",
   "metadata": {},
   "outputs": [],
   "source": [
    "# Creating our column\n",
    "df['exclusion'] = exclusion"
   ]
  },
  {
   "cell_type": "code",
   "execution_count": 17,
   "id": "b62d499a",
   "metadata": {},
   "outputs": [
    {
     "data": {
      "text/plain": [
       "Norm    31156122\n",
       "Low      1485146\n",
       "Name: exclusion, dtype: int64"
      ]
     },
     "execution_count": 17,
     "metadata": {},
     "output_type": "execute_result"
    }
   ],
   "source": [
    "# Checking our value counts\n",
    "df['exclusion'].value_counts()"
   ]
  },
  {
   "cell_type": "markdown",
   "id": "0de4c482",
   "metadata": {},
   "source": [
    "#### Now we have to exclude those rows that include low activity customers"
   ]
  },
  {
   "cell_type": "code",
   "execution_count": 18,
   "id": "9bed80f9",
   "metadata": {},
   "outputs": [
    {
     "data": {
      "text/plain": [
       "(32641268, 37)"
      ]
     },
     "execution_count": 18,
     "metadata": {},
     "output_type": "execute_result"
    }
   ],
   "source": [
    "# Checking our row count before we drop rows\n",
    "df.shape"
   ]
  },
  {
   "cell_type": "code",
   "execution_count": 19,
   "id": "387b9f1a",
   "metadata": {},
   "outputs": [],
   "source": [
    "# Creating an index of the rows we want to remove from our data\n",
    "ex_index = df[df['exclusion'] == 'Low'].index"
   ]
  },
  {
   "cell_type": "code",
   "execution_count": 20,
   "id": "2dcb93ac",
   "metadata": {},
   "outputs": [],
   "source": [
    "# Creating a second dataframe with those rows removed\n",
    "df.drop(ex_index, inplace = True)"
   ]
  },
  {
   "cell_type": "code",
   "execution_count": 21,
   "id": "77484b03",
   "metadata": {},
   "outputs": [
    {
     "data": {
      "text/plain": [
       "(31156122, 37)"
      ]
     },
     "execution_count": 21,
     "metadata": {},
     "output_type": "execute_result"
    }
   ],
   "source": [
    "# Checkign our row count after drop to confirm\n",
    "df.shape"
   ]
  },
  {
   "cell_type": "markdown",
   "id": "3e8d456a",
   "metadata": {},
   "source": [
    "Now that we have removed the rows with our low activity customers, we will remove the column we made as to not have a column that only includes 1 value in the data frame"
   ]
  },
  {
   "cell_type": "code",
   "execution_count": 22,
   "id": "a825de2f",
   "metadata": {},
   "outputs": [],
   "source": [
    "# Dropping column to reduce unnecessary columns\n",
    "df_2 = df.drop(columns = ['exclusion'])"
   ]
  },
  {
   "cell_type": "markdown",
   "id": "c2252504",
   "metadata": {},
   "source": [
    "## 05. Question 5 - Creating customer profiles to categorize the customer base"
   ]
  },
  {
   "cell_type": "markdown",
   "id": "acd0cffc",
   "metadata": {},
   "source": [
    "#### We will be creating 3 main categories of customers\n",
    "#### 1. Parent Category 'num_of_dependants'\n",
    "#### 1.1 New parent category 'department_id', sub category we can pair with our Parent Category to better market\n",
    "#### 2. Pet Owner Category 'department_id'\n",
    "#### 3. Income Level Category 'income'"
   ]
  },
  {
   "cell_type": "markdown",
   "id": "b80c9e6d",
   "metadata": {},
   "source": [
    "### 05.1. Parent Category"
   ]
  },
  {
   "cell_type": "code",
   "execution_count": 23,
   "id": "5de5b303",
   "metadata": {},
   "outputs": [
    {
     "data": {
      "text/plain": [
       "3    7820251\n",
       "0    7787911\n",
       "2    7781142\n",
       "1    7766818\n",
       "Name: num_of_dependants, dtype: int64"
      ]
     },
     "execution_count": 23,
     "metadata": {},
     "output_type": "execute_result"
    }
   ],
   "source": [
    "df_2['num_of_dependants'].value_counts()"
   ]
  },
  {
   "cell_type": "code",
   "execution_count": 24,
   "id": "692e5c35",
   "metadata": {},
   "outputs": [],
   "source": [
    "# Creating list to fill our new column\n",
    "parent = []\n",
    "\n",
    "for value in df_2['num_of_dependants']:\n",
    "  if value == 0:\n",
    "    parent.append('No current dependants')\n",
    "  elif value == 1:\n",
    "    parent.append('Parent of one')\n",
    "  else:\n",
    "    parent.append('Parent of two or more')\n"
   ]
  },
  {
   "cell_type": "code",
   "execution_count": 25,
   "id": "1a16130b",
   "metadata": {},
   "outputs": [],
   "source": [
    "df_2['parent_category'] = parent"
   ]
  },
  {
   "cell_type": "code",
   "execution_count": 26,
   "id": "531a64d7",
   "metadata": {},
   "outputs": [
    {
     "data": {
      "text/plain": [
       "Parent of two or more    15601393\n",
       "No current dependants     7787911\n",
       "Parent of one             7766818\n",
       "Name: parent_category, dtype: int64"
      ]
     },
     "execution_count": 26,
     "metadata": {},
     "output_type": "execute_result"
    }
   ],
   "source": [
    "# Checking values\n",
    "df_2['parent_category'].value_counts()"
   ]
  },
  {
   "cell_type": "code",
   "execution_count": 27,
   "id": "e2226601",
   "metadata": {},
   "outputs": [],
   "source": [
    "# Creating dataframe to then chart\n",
    "df_parent = df_2.groupby('parent_category').agg({'user_id':['nunique']})"
   ]
  },
  {
   "cell_type": "markdown",
   "id": "81df8c55",
   "metadata": {},
   "source": [
    "### 05.1.1. Baby Shopper Category"
   ]
  },
  {
   "cell_type": "code",
   "execution_count": 28,
   "id": "aa41f8fc",
   "metadata": {},
   "outputs": [],
   "source": [
    "# Creating a flag for if customer orders from baby department(18)\n",
    "df_2['baby_order_flag'] = ''"
   ]
  },
  {
   "cell_type": "code",
   "execution_count": 29,
   "id": "9e7e5d42",
   "metadata": {},
   "outputs": [],
   "source": [
    "# If the order has an department_id of 18, it is given a 1\n",
    "df_2.loc[(df_2['department_id'] == 18), 'baby_order_flag'] = 1"
   ]
  },
  {
   "cell_type": "code",
   "execution_count": 30,
   "id": "a28b9423",
   "metadata": {},
   "outputs": [],
   "source": [
    "# If the order is not from department_id 18, it is given a 0\n",
    "df_2.loc[(df_2['department_id'] != 18), 'baby_order_flag'] = 0"
   ]
  },
  {
   "cell_type": "code",
   "execution_count": 31,
   "id": "9d695371",
   "metadata": {},
   "outputs": [],
   "source": [
    "df_baby_flag = df_2.groupby('user_id').agg({'baby_order_flag' : 'sum'})"
   ]
  },
  {
   "cell_type": "code",
   "execution_count": 32,
   "id": "63c5382d",
   "metadata": {},
   "outputs": [],
   "source": [
    "# Creating a column to define baby_shopper's\n",
    "df_baby_flag['baby_shopper'] = ''"
   ]
  },
  {
   "cell_type": "code",
   "execution_count": 33,
   "id": "3013cd7a",
   "metadata": {},
   "outputs": [],
   "source": [
    "# Any orders with a baby_order_flag of 1, identifies the customer as a pet_shopper\n",
    "df_baby_flag.loc[(df_baby_flag['baby_order_flag'] >= 1), 'baby_shopper'] = 'Baby Shopper'"
   ]
  },
  {
   "cell_type": "code",
   "execution_count": 34,
   "id": "8c4b7cad",
   "metadata": {},
   "outputs": [],
   "source": [
    "# Any orders without a 1 and instead a 0, are seen as None Pet Shoppers\n",
    "df_baby_flag.loc[(df_baby_flag['baby_order_flag'] == 0), 'baby_shopper'] = \"None Baby Shopper\""
   ]
  },
  {
   "cell_type": "code",
   "execution_count": 35,
   "id": "9570b20b",
   "metadata": {},
   "outputs": [
    {
     "data": {
      "text/plain": [
       "None Baby Shopper    132403\n",
       "Baby Shopper          30230\n",
       "Name: baby_shopper, dtype: int64"
      ]
     },
     "execution_count": 35,
     "metadata": {},
     "output_type": "execute_result"
    }
   ],
   "source": [
    "df_baby_flag['baby_shopper'].value_counts()"
   ]
  },
  {
   "cell_type": "code",
   "execution_count": 36,
   "id": "1a121ef3",
   "metadata": {},
   "outputs": [],
   "source": [
    "#Removing flag column as no longer needed\n",
    "df_baby_flag = df_baby_flag.drop(columns = ['baby_order_flag'])"
   ]
  },
  {
   "cell_type": "code",
   "execution_count": 37,
   "id": "4567bfd9",
   "metadata": {},
   "outputs": [],
   "source": [
    "# Merging the data we just created to our original data set\n",
    "df_merg = df_2.merge(df_baby_flag, on = 'user_id', how = 'left')"
   ]
  },
  {
   "cell_type": "code",
   "execution_count": 38,
   "id": "17c49354",
   "metadata": {},
   "outputs": [],
   "source": [
    "# Creating dataframe to then chart\n",
    "df_baby = df_merg.groupby('baby_shopper').agg({'user_id':['nunique']})"
   ]
  },
  {
   "cell_type": "markdown",
   "id": "14da888f",
   "metadata": {},
   "source": [
    "### 05.2. Pet Shopper Category"
   ]
  },
  {
   "cell_type": "code",
   "execution_count": 39,
   "id": "4d3696ff",
   "metadata": {},
   "outputs": [],
   "source": [
    "# Creating a flag for if customer orders from pet department(8)\n",
    "df_merg['pet_order_flag'] = ''"
   ]
  },
  {
   "cell_type": "code",
   "execution_count": 40,
   "id": "8d3a6937",
   "metadata": {},
   "outputs": [],
   "source": [
    "# If the order has an department_id of 8, it is given a 1\n",
    "df_merg.loc[(df_merg['department_id'] == 8), 'pet_order_flag'] = 1"
   ]
  },
  {
   "cell_type": "code",
   "execution_count": 41,
   "id": "1ed0f066",
   "metadata": {},
   "outputs": [],
   "source": [
    "# If the order is not from department_id 8, it is given a 0\n",
    "df_merg.loc[(df_merg['department_id'] != 8), 'pet_order_flag'] = 0"
   ]
  },
  {
   "cell_type": "code",
   "execution_count": 42,
   "id": "034f5d89",
   "metadata": {},
   "outputs": [],
   "source": [
    "df_pet_flag = df_merg.groupby('user_id').agg({'pet_order_flag' : 'sum'})"
   ]
  },
  {
   "cell_type": "code",
   "execution_count": 43,
   "id": "ac491064",
   "metadata": {},
   "outputs": [],
   "source": [
    "# Creating a column to define pet_shopper's\n",
    "df_pet_flag['pet_shopper'] = ''"
   ]
  },
  {
   "cell_type": "code",
   "execution_count": 44,
   "id": "5fcb451f",
   "metadata": {},
   "outputs": [],
   "source": [
    "# Any orders with a pet_order_flag of 1, identifies the customer as a pet_shopper\n",
    "df_pet_flag.loc[(df_pet_flag['pet_order_flag'] >= 1), 'pet_shopper'] = \"Pet Shopper\""
   ]
  },
  {
   "cell_type": "code",
   "execution_count": 45,
   "id": "31d31365",
   "metadata": {},
   "outputs": [],
   "source": [
    "# Any orders without a 1 and instead a 0, are seen as None Pet Shoppers\n",
    "df_pet_flag.loc[(df_pet_flag['pet_order_flag'] == 0), 'pet_shopper'] = \"Non Pet Shopper\""
   ]
  },
  {
   "cell_type": "code",
   "execution_count": 46,
   "id": "9ebe0f3c",
   "metadata": {},
   "outputs": [
    {
     "data": {
      "text/plain": [
       "Non Pet Shopper    149458\n",
       "Pet Shopper         13175\n",
       "Name: pet_shopper, dtype: int64"
      ]
     },
     "execution_count": 46,
     "metadata": {},
     "output_type": "execute_result"
    }
   ],
   "source": [
    "df_pet_flag['pet_shopper'].value_counts()"
   ]
  },
  {
   "cell_type": "code",
   "execution_count": 47,
   "id": "1c4e583d",
   "metadata": {},
   "outputs": [],
   "source": [
    "#Removing flag column as no longer needed\n",
    "df_pet_flag = df_pet_flag.drop(columns = ['pet_order_flag'])"
   ]
  },
  {
   "cell_type": "markdown",
   "id": "4708ca37",
   "metadata": {},
   "source": [
    "#### Creating a data frame 'df_final' as our final .merge() function "
   ]
  },
  {
   "cell_type": "code",
   "execution_count": 48,
   "id": "3726cd95",
   "metadata": {},
   "outputs": [],
   "source": [
    "# Merging the data we just created to our original data set\n",
    "df_final = df_merg.merge(df_pet_flag, on = 'user_id', how = 'left')"
   ]
  },
  {
   "cell_type": "code",
   "execution_count": 49,
   "id": "07a9b2a6",
   "metadata": {},
   "outputs": [],
   "source": [
    "# Creating dataframe to then chart\n",
    "df_pet = df_final.groupby('pet_shopper').agg({'user_id':['nunique']})"
   ]
  },
  {
   "cell_type": "markdown",
   "id": "dfe4a05e",
   "metadata": {},
   "source": [
    "### 05.3. Income Level Category"
   ]
  },
  {
   "cell_type": "code",
   "execution_count": 50,
   "id": "14614eae",
   "metadata": {},
   "outputs": [],
   "source": [
    "# Creating list to fill our new column\n",
    "income = []\n",
    "\n",
    "for value in df_2['income']:\n",
    "  if value < 40000:\n",
    "    income.append('Low Income')\n",
    "  elif value > 80000:\n",
    "    income.append('High Income')\n",
    "  elif value >= 40000 & value <= 80000:\n",
    "    income.append('Moderate Income')\n",
    "  else:\n",
    "    income.append('NaN')"
   ]
  },
  {
   "cell_type": "code",
   "execution_count": 51,
   "id": "794bb7bb",
   "metadata": {},
   "outputs": [],
   "source": [
    "df_final['income_level'] = income"
   ]
  },
  {
   "cell_type": "code",
   "execution_count": 52,
   "id": "813ae989",
   "metadata": {},
   "outputs": [
    {
     "data": {
      "text/plain": [
       "High Income        20089246\n",
       "Moderate Income     9440483\n",
       "Low Income          1626393\n",
       "Name: income_level, dtype: int64"
      ]
     },
     "execution_count": 52,
     "metadata": {},
     "output_type": "execute_result"
    }
   ],
   "source": [
    "# Checking values\n",
    "df_final['income_level'].value_counts()"
   ]
  },
  {
   "cell_type": "code",
   "execution_count": 53,
   "id": "480c6972",
   "metadata": {},
   "outputs": [],
   "source": [
    "# Creating dataframe to then chart\n",
    "df_income = df_final.groupby('income_level').agg({'user_id':['nunique']})"
   ]
  },
  {
   "cell_type": "markdown",
   "id": "2c91d810",
   "metadata": {},
   "source": [
    "## 06. Creating a new data frame for statistical analysis"
   ]
  },
  {
   "cell_type": "markdown",
   "id": "9bdc58bd",
   "metadata": {},
   "source": [
    "Our current 'df_final' has more than 30 million rows of data, of all that data alot of the rows have multiple records of the same user because they have multiple orders and for each order we have a row for every product they've purchased, this creates several tens of rows of customer information for just 1 customer. This inflation of records will not accurately portray the information held in data for statistical analysis and needs to be delat with."
   ]
  },
  {
   "cell_type": "code",
   "execution_count": 54,
   "id": "0eefd747",
   "metadata": {},
   "outputs": [],
   "source": [
    "# Creating a data frame pulling only customer information for statistical analysis\n",
    "cust = df_final[['user_id', 'first_name', 'last_name', 'gender', 'state', 'age', 'region', 'family_status', 'num_of_dependants', 'parent_category', 'income', 'income_level', 'date_joined', 'order_frequency', 'frequency_flag', 'avg_spent', 'spender_flag', 'baby_shopper', 'pet_shopper']]"
   ]
  },
  {
   "cell_type": "code",
   "execution_count": 55,
   "id": "6968b8e6",
   "metadata": {},
   "outputs": [],
   "source": [
    "# Droping any duplicated rows\n",
    "cust_clean = cust.drop_duplicates()"
   ]
  },
  {
   "cell_type": "code",
   "execution_count": 56,
   "id": "136172dd",
   "metadata": {},
   "outputs": [
    {
     "data": {
      "text/plain": [
       "(162633, 19)"
      ]
     },
     "execution_count": 56,
     "metadata": {},
     "output_type": "execute_result"
    }
   ],
   "source": [
    "# Checking our data shape\n",
    "cust_clean.shape"
   ]
  },
  {
   "cell_type": "markdown",
   "id": "fb8d5607",
   "metadata": {},
   "source": [
    "## 07. Question 6 - Create visualizations to show the distrbution of profiles"
   ]
  },
  {
   "cell_type": "code",
   "execution_count": 57,
   "id": "31086d38",
   "metadata": {
    "scrolled": true
   },
   "outputs": [
    {
     "data": {
      "image/png": "[encoded data removed]",
      "text/plain": [
       "<Figure size 432x288 with 1 Axes>"
      ]
     },
     "metadata": {
      "needs_background": "light"
     },
     "output_type": "display_data"
    }
   ],
   "source": [
    "parent_bar = df_parent.plot.bar()"
   ]
  },
  {
   "cell_type": "code",
   "execution_count": 58,
   "id": "48eaadbe",
   "metadata": {
    "scrolled": true
   },
   "outputs": [
    {
     "data": {
      "image/png": "[encoded data removed]",
      "text/plain": [
       "<Figure size 432x288 with 1 Axes>"
      ]
     },
     "metadata": {
      "needs_background": "light"
     },
     "output_type": "display_data"
    }
   ],
   "source": [
    "baby_bar = df_baby.plot.bar()"
   ]
  },
  {
   "cell_type": "code",
   "execution_count": 59,
   "id": "ac471da4",
   "metadata": {},
   "outputs": [
    {
     "data": {
      "image/png": "[encoded data removed]",
      "text/plain": [
       "<Figure size 432x288 with 1 Axes>"
      ]
     },
     "metadata": {
      "needs_background": "light"
     },
     "output_type": "display_data"
    }
   ],
   "source": [
    "pet_bar = df_pet.plot.bar()"
   ]
  },
  {
   "cell_type": "code",
   "execution_count": 60,
   "id": "57ae2a68",
   "metadata": {},
   "outputs": [
    {
     "data": {
      "image/png": "[encoded data removed]",
      "text/plain": [
       "<Figure size 432x288 with 1 Axes>"
      ]
     },
     "metadata": {
      "needs_background": "light"
     },
     "output_type": "display_data"
    }
   ],
   "source": [
    "income_bar = df_income.plot.bar()"
   ]
  },
  {
   "cell_type": "markdown",
   "id": "9151f637",
   "metadata": {},
   "source": [
    "## 08. Question 7 - Aggregate the max, mean, and min for customer profiles"
   ]
  },
  {
   "cell_type": "markdown",
   "id": "a2e0e032",
   "metadata": {},
   "source": [
    "### 08.1. Parent Category"
   ]
  },
  {
   "cell_type": "code",
   "execution_count": 61,
   "id": "96cefa77",
   "metadata": {},
   "outputs": [
    {
     "data": {
      "text/html": [
       "<div>\n",
       "<style scoped>\n",
       "    .dataframe tbody tr th:only-of-type {\n",
       "        vertical-align: middle;\n",
       "    }\n",
       "\n",
       "    .dataframe tbody tr th {\n",
       "        vertical-align: top;\n",
       "    }\n",
       "\n",
       "    .dataframe thead tr th {\n",
       "        text-align: left;\n",
       "    }\n",
       "\n",
       "    .dataframe thead tr:last-of-type th {\n",
       "        text-align: right;\n",
       "    }\n",
       "</style>\n",
       "<table border=\"1\" class=\"dataframe\">\n",
       "  <thead>\n",
       "    <tr>\n",
       "      <th></th>\n",
       "      <th colspan=\"4\" halign=\"left\">age</th>\n",
       "    </tr>\n",
       "    <tr>\n",
       "      <th></th>\n",
       "      <th>max</th>\n",
       "      <th>min</th>\n",
       "      <th>mean</th>\n",
       "      <th>median</th>\n",
       "    </tr>\n",
       "    <tr>\n",
       "      <th>parent_category</th>\n",
       "      <th></th>\n",
       "      <th></th>\n",
       "      <th></th>\n",
       "      <th></th>\n",
       "    </tr>\n",
       "  </thead>\n",
       "  <tbody>\n",
       "    <tr>\n",
       "      <th>No current dependants</th>\n",
       "      <td>81</td>\n",
       "      <td>18</td>\n",
       "      <td>49.376792</td>\n",
       "      <td>49</td>\n",
       "    </tr>\n",
       "    <tr>\n",
       "      <th>Parent of one</th>\n",
       "      <td>81</td>\n",
       "      <td>18</td>\n",
       "      <td>49.568901</td>\n",
       "      <td>49</td>\n",
       "    </tr>\n",
       "    <tr>\n",
       "      <th>Parent of two or more</th>\n",
       "      <td>81</td>\n",
       "      <td>18</td>\n",
       "      <td>49.590401</td>\n",
       "      <td>50</td>\n",
       "    </tr>\n",
       "  </tbody>\n",
       "</table>\n",
       "</div>"
      ],
      "text/plain": [
       "                      age                      \n",
       "                      max min       mean median\n",
       "parent_category                                \n",
       "No current dependants  81  18  49.376792     49\n",
       "Parent of one          81  18  49.568901     49\n",
       "Parent of two or more  81  18  49.590401     50"
      ]
     },
     "execution_count": 61,
     "metadata": {},
     "output_type": "execute_result"
    }
   ],
   "source": [
    "# Gatering 'age','orders_day_of_week','order_hour_of_day','order_frequency','prices' statistical data\n",
    "cust_clean.groupby('parent_category').agg({'age':['max','min','mean','median']})"
   ]
  },
  {
   "cell_type": "markdown",
   "id": "f55f5c89",
   "metadata": {},
   "source": [
    "Ages are fairly similar all around between the categories with only instant notable diffrence being median for 'Parent of two or more' being 50 rather than 49"
   ]
  },
  {
   "cell_type": "code",
   "execution_count": 62,
   "id": "6f0e6c37",
   "metadata": {},
   "outputs": [
    {
     "data": {
      "text/html": [
       "<div>\n",
       "<style scoped>\n",
       "    .dataframe tbody tr th:only-of-type {\n",
       "        vertical-align: middle;\n",
       "    }\n",
       "\n",
       "    .dataframe tbody tr th {\n",
       "        vertical-align: top;\n",
       "    }\n",
       "\n",
       "    .dataframe thead tr th {\n",
       "        text-align: left;\n",
       "    }\n",
       "\n",
       "    .dataframe thead tr:last-of-type th {\n",
       "        text-align: right;\n",
       "    }\n",
       "</style>\n",
       "<table border=\"1\" class=\"dataframe\">\n",
       "  <thead>\n",
       "    <tr>\n",
       "      <th></th>\n",
       "      <th colspan=\"4\" halign=\"left\">order_frequency</th>\n",
       "    </tr>\n",
       "    <tr>\n",
       "      <th></th>\n",
       "      <th>max</th>\n",
       "      <th>min</th>\n",
       "      <th>mean</th>\n",
       "      <th>median</th>\n",
       "    </tr>\n",
       "    <tr>\n",
       "      <th>parent_category</th>\n",
       "      <th></th>\n",
       "      <th></th>\n",
       "      <th></th>\n",
       "      <th></th>\n",
       "    </tr>\n",
       "  </thead>\n",
       "  <tbody>\n",
       "    <tr>\n",
       "      <th>No current dependants</th>\n",
       "      <td>30.0</td>\n",
       "      <td>0.0</td>\n",
       "      <td>13.795644</td>\n",
       "      <td>11.0</td>\n",
       "    </tr>\n",
       "    <tr>\n",
       "      <th>Parent of one</th>\n",
       "      <td>30.0</td>\n",
       "      <td>0.0</td>\n",
       "      <td>13.819386</td>\n",
       "      <td>11.0</td>\n",
       "    </tr>\n",
       "    <tr>\n",
       "      <th>Parent of two or more</th>\n",
       "      <td>30.0</td>\n",
       "      <td>0.0</td>\n",
       "      <td>13.784771</td>\n",
       "      <td>11.0</td>\n",
       "    </tr>\n",
       "  </tbody>\n",
       "</table>\n",
       "</div>"
      ],
      "text/plain": [
       "                      order_frequency                       \n",
       "                                  max  min       mean median\n",
       "parent_category                                             \n",
       "No current dependants            30.0  0.0  13.795644   11.0\n",
       "Parent of one                    30.0  0.0  13.819386   11.0\n",
       "Parent of two or more            30.0  0.0  13.784771   11.0"
      ]
     },
     "execution_count": 62,
     "metadata": {},
     "output_type": "execute_result"
    }
   ],
   "source": [
    "cust_clean.groupby('parent_category').agg({'order_frequency':['max','min','mean','median']})"
   ]
  },
  {
   "cell_type": "markdown",
   "id": "3c4b853a",
   "metadata": {},
   "source": [
    "Frequencies in orders between the categories is non-existant, the means are within 0.2 of each other"
   ]
  },
  {
   "cell_type": "markdown",
   "id": "c1106c73",
   "metadata": {},
   "source": [
    "### 08.1.1 Baby Shopper Category"
   ]
  },
  {
   "cell_type": "code",
   "execution_count": 63,
   "id": "91f7d93e",
   "metadata": {},
   "outputs": [
    {
     "data": {
      "text/html": [
       "<div>\n",
       "<style scoped>\n",
       "    .dataframe tbody tr th:only-of-type {\n",
       "        vertical-align: middle;\n",
       "    }\n",
       "\n",
       "    .dataframe tbody tr th {\n",
       "        vertical-align: top;\n",
       "    }\n",
       "\n",
       "    .dataframe thead tr th {\n",
       "        text-align: left;\n",
       "    }\n",
       "\n",
       "    .dataframe thead tr:last-of-type th {\n",
       "        text-align: right;\n",
       "    }\n",
       "</style>\n",
       "<table border=\"1\" class=\"dataframe\">\n",
       "  <thead>\n",
       "    <tr>\n",
       "      <th></th>\n",
       "      <th colspan=\"4\" halign=\"left\">age</th>\n",
       "    </tr>\n",
       "    <tr>\n",
       "      <th></th>\n",
       "      <th>max</th>\n",
       "      <th>min</th>\n",
       "      <th>mean</th>\n",
       "      <th>median</th>\n",
       "    </tr>\n",
       "    <tr>\n",
       "      <th>baby_shopper</th>\n",
       "      <th></th>\n",
       "      <th></th>\n",
       "      <th></th>\n",
       "      <th></th>\n",
       "    </tr>\n",
       "  </thead>\n",
       "  <tbody>\n",
       "    <tr>\n",
       "      <th>Baby Shopper</th>\n",
       "      <td>81</td>\n",
       "      <td>18</td>\n",
       "      <td>49.610619</td>\n",
       "      <td>50</td>\n",
       "    </tr>\n",
       "    <tr>\n",
       "      <th>None Baby Shopper</th>\n",
       "      <td>81</td>\n",
       "      <td>18</td>\n",
       "      <td>49.513470</td>\n",
       "      <td>49</td>\n",
       "    </tr>\n",
       "  </tbody>\n",
       "</table>\n",
       "</div>"
      ],
      "text/plain": [
       "                  age                      \n",
       "                  max min       mean median\n",
       "baby_shopper                               \n",
       "Baby Shopper       81  18  49.610619     50\n",
       "None Baby Shopper  81  18  49.513470     49"
      ]
     },
     "execution_count": 63,
     "metadata": {},
     "output_type": "execute_result"
    }
   ],
   "source": [
    "# Gatering 'age','order_frequency', statistical data\n",
    "cust_clean.groupby('baby_shopper').agg({'age':['max','min','mean','median']})"
   ]
  },
  {
   "cell_type": "markdown",
   "id": "065cdc0b",
   "metadata": {},
   "source": [
    "Ages are fairly similar all around between the categories with only instant notable diffrence being median for 'Baby Shopper' being 50 rather than 49"
   ]
  },
  {
   "cell_type": "code",
   "execution_count": 64,
   "id": "ef81bb35",
   "metadata": {
    "scrolled": true
   },
   "outputs": [
    {
     "data": {
      "text/html": [
       "<div>\n",
       "<style scoped>\n",
       "    .dataframe tbody tr th:only-of-type {\n",
       "        vertical-align: middle;\n",
       "    }\n",
       "\n",
       "    .dataframe tbody tr th {\n",
       "        vertical-align: top;\n",
       "    }\n",
       "\n",
       "    .dataframe thead tr th {\n",
       "        text-align: left;\n",
       "    }\n",
       "\n",
       "    .dataframe thead tr:last-of-type th {\n",
       "        text-align: right;\n",
       "    }\n",
       "</style>\n",
       "<table border=\"1\" class=\"dataframe\">\n",
       "  <thead>\n",
       "    <tr>\n",
       "      <th></th>\n",
       "      <th colspan=\"4\" halign=\"left\">order_frequency</th>\n",
       "    </tr>\n",
       "    <tr>\n",
       "      <th></th>\n",
       "      <th>max</th>\n",
       "      <th>min</th>\n",
       "      <th>mean</th>\n",
       "      <th>median</th>\n",
       "    </tr>\n",
       "    <tr>\n",
       "      <th>baby_shopper</th>\n",
       "      <th></th>\n",
       "      <th></th>\n",
       "      <th></th>\n",
       "      <th></th>\n",
       "    </tr>\n",
       "  </thead>\n",
       "  <tbody>\n",
       "    <tr>\n",
       "      <th>Baby Shopper</th>\n",
       "      <td>30.0</td>\n",
       "      <td>0.0</td>\n",
       "      <td>11.368740</td>\n",
       "      <td>9.0</td>\n",
       "    </tr>\n",
       "    <tr>\n",
       "      <th>None Baby Shopper</th>\n",
       "      <td>30.0</td>\n",
       "      <td>0.0</td>\n",
       "      <td>14.350377</td>\n",
       "      <td>12.0</td>\n",
       "    </tr>\n",
       "  </tbody>\n",
       "</table>\n",
       "</div>"
      ],
      "text/plain": [
       "                  order_frequency                       \n",
       "                              max  min       mean median\n",
       "baby_shopper                                            \n",
       "Baby Shopper                 30.0  0.0  11.368740    9.0\n",
       "None Baby Shopper            30.0  0.0  14.350377   12.0"
      ]
     },
     "execution_count": 64,
     "metadata": {},
     "output_type": "execute_result"
    }
   ],
   "source": [
    "cust_clean.groupby('baby_shopper').agg({'order_frequency':['max','min','mean','median']})"
   ]
  },
  {
   "cell_type": "markdown",
   "id": "e85f4fda",
   "metadata": {},
   "source": [
    "Notable difference is that 'Baby Shopper' customers order more frequently than 'Non Baby Shopper' customers"
   ]
  },
  {
   "cell_type": "markdown",
   "id": "48847659",
   "metadata": {},
   "source": [
    "### 08.2. Pet Owner Category"
   ]
  },
  {
   "cell_type": "code",
   "execution_count": 65,
   "id": "d0b994bb",
   "metadata": {},
   "outputs": [
    {
     "data": {
      "text/html": [
       "<div>\n",
       "<style scoped>\n",
       "    .dataframe tbody tr th:only-of-type {\n",
       "        vertical-align: middle;\n",
       "    }\n",
       "\n",
       "    .dataframe tbody tr th {\n",
       "        vertical-align: top;\n",
       "    }\n",
       "\n",
       "    .dataframe thead tr th {\n",
       "        text-align: left;\n",
       "    }\n",
       "\n",
       "    .dataframe thead tr:last-of-type th {\n",
       "        text-align: right;\n",
       "    }\n",
       "</style>\n",
       "<table border=\"1\" class=\"dataframe\">\n",
       "  <thead>\n",
       "    <tr>\n",
       "      <th></th>\n",
       "      <th colspan=\"4\" halign=\"left\">age</th>\n",
       "    </tr>\n",
       "    <tr>\n",
       "      <th></th>\n",
       "      <th>max</th>\n",
       "      <th>min</th>\n",
       "      <th>mean</th>\n",
       "      <th>median</th>\n",
       "    </tr>\n",
       "    <tr>\n",
       "      <th>pet_shopper</th>\n",
       "      <th></th>\n",
       "      <th></th>\n",
       "      <th></th>\n",
       "      <th></th>\n",
       "    </tr>\n",
       "  </thead>\n",
       "  <tbody>\n",
       "    <tr>\n",
       "      <th>Non Pet Shopper</th>\n",
       "      <td>81</td>\n",
       "      <td>18</td>\n",
       "      <td>49.515088</td>\n",
       "      <td>49</td>\n",
       "    </tr>\n",
       "    <tr>\n",
       "      <th>Pet Shopper</th>\n",
       "      <td>81</td>\n",
       "      <td>18</td>\n",
       "      <td>49.718027</td>\n",
       "      <td>50</td>\n",
       "    </tr>\n",
       "  </tbody>\n",
       "</table>\n",
       "</div>"
      ],
      "text/plain": [
       "                age                      \n",
       "                max min       mean median\n",
       "pet_shopper                              \n",
       "Non Pet Shopper  81  18  49.515088     49\n",
       "Pet Shopper      81  18  49.718027     50"
      ]
     },
     "execution_count": 65,
     "metadata": {},
     "output_type": "execute_result"
    }
   ],
   "source": [
    "# Gatering 'age','order_frequency' statistical data\n",
    "cust_clean.groupby('pet_shopper').agg({'age':['max','min','mean','median']})"
   ]
  },
  {
   "cell_type": "markdown",
   "id": "dc51b9df",
   "metadata": {},
   "source": [
    "Ages are fairly similar all around between the categories with only instant notable diffrence being median for 'Pet Shopper' being 50 rather than 49"
   ]
  },
  {
   "cell_type": "code",
   "execution_count": 66,
   "id": "b559a6db",
   "metadata": {},
   "outputs": [
    {
     "data": {
      "text/html": [
       "<div>\n",
       "<style scoped>\n",
       "    .dataframe tbody tr th:only-of-type {\n",
       "        vertical-align: middle;\n",
       "    }\n",
       "\n",
       "    .dataframe tbody tr th {\n",
       "        vertical-align: top;\n",
       "    }\n",
       "\n",
       "    .dataframe thead tr th {\n",
       "        text-align: left;\n",
       "    }\n",
       "\n",
       "    .dataframe thead tr:last-of-type th {\n",
       "        text-align: right;\n",
       "    }\n",
       "</style>\n",
       "<table border=\"1\" class=\"dataframe\">\n",
       "  <thead>\n",
       "    <tr>\n",
       "      <th></th>\n",
       "      <th colspan=\"4\" halign=\"left\">order_frequency</th>\n",
       "    </tr>\n",
       "    <tr>\n",
       "      <th></th>\n",
       "      <th>max</th>\n",
       "      <th>min</th>\n",
       "      <th>mean</th>\n",
       "      <th>median</th>\n",
       "    </tr>\n",
       "    <tr>\n",
       "      <th>pet_shopper</th>\n",
       "      <th></th>\n",
       "      <th></th>\n",
       "      <th></th>\n",
       "      <th></th>\n",
       "    </tr>\n",
       "  </thead>\n",
       "  <tbody>\n",
       "    <tr>\n",
       "      <th>Non Pet Shopper</th>\n",
       "      <td>30.0</td>\n",
       "      <td>0.0</td>\n",
       "      <td>13.916615</td>\n",
       "      <td>12.0</td>\n",
       "    </tr>\n",
       "    <tr>\n",
       "      <th>Pet Shopper</th>\n",
       "      <td>30.0</td>\n",
       "      <td>0.0</td>\n",
       "      <td>12.429639</td>\n",
       "      <td>10.0</td>\n",
       "    </tr>\n",
       "  </tbody>\n",
       "</table>\n",
       "</div>"
      ],
      "text/plain": [
       "                order_frequency                       \n",
       "                            max  min       mean median\n",
       "pet_shopper                                           \n",
       "Non Pet Shopper            30.0  0.0  13.916615   12.0\n",
       "Pet Shopper                30.0  0.0  12.429639   10.0"
      ]
     },
     "execution_count": 66,
     "metadata": {},
     "output_type": "execute_result"
    }
   ],
   "source": [
    "cust_clean.groupby('pet_shopper').agg({'order_frequency':['max','min','mean','median']})"
   ]
  },
  {
   "cell_type": "markdown",
   "id": "7812bf2d",
   "metadata": {},
   "source": [
    "Notable difference is that 'Pet Shopper' customers order slightly more frequently than 'Non Pet Shopper' customers"
   ]
  },
  {
   "cell_type": "markdown",
   "id": "10f579d0",
   "metadata": {},
   "source": [
    "### 08.3. Income Level"
   ]
  },
  {
   "cell_type": "code",
   "execution_count": 67,
   "id": "f3f3cd03",
   "metadata": {
    "scrolled": true
   },
   "outputs": [
    {
     "data": {
      "text/html": [
       "<div>\n",
       "<style scoped>\n",
       "    .dataframe tbody tr th:only-of-type {\n",
       "        vertical-align: middle;\n",
       "    }\n",
       "\n",
       "    .dataframe tbody tr th {\n",
       "        vertical-align: top;\n",
       "    }\n",
       "\n",
       "    .dataframe thead tr th {\n",
       "        text-align: left;\n",
       "    }\n",
       "\n",
       "    .dataframe thead tr:last-of-type th {\n",
       "        text-align: right;\n",
       "    }\n",
       "</style>\n",
       "<table border=\"1\" class=\"dataframe\">\n",
       "  <thead>\n",
       "    <tr>\n",
       "      <th></th>\n",
       "      <th colspan=\"4\" halign=\"left\">age</th>\n",
       "    </tr>\n",
       "    <tr>\n",
       "      <th></th>\n",
       "      <th>max</th>\n",
       "      <th>min</th>\n",
       "      <th>mean</th>\n",
       "      <th>median</th>\n",
       "    </tr>\n",
       "    <tr>\n",
       "      <th>income_level</th>\n",
       "      <th></th>\n",
       "      <th></th>\n",
       "      <th></th>\n",
       "      <th></th>\n",
       "    </tr>\n",
       "  </thead>\n",
       "  <tbody>\n",
       "    <tr>\n",
       "      <th>High Income</th>\n",
       "      <td>81</td>\n",
       "      <td>18</td>\n",
       "      <td>55.434635</td>\n",
       "      <td>57</td>\n",
       "    </tr>\n",
       "    <tr>\n",
       "      <th>Low Income</th>\n",
       "      <td>81</td>\n",
       "      <td>18</td>\n",
       "      <td>45.485465</td>\n",
       "      <td>42</td>\n",
       "    </tr>\n",
       "    <tr>\n",
       "      <th>Moderate Income</th>\n",
       "      <td>81</td>\n",
       "      <td>18</td>\n",
       "      <td>39.227041</td>\n",
       "      <td>34</td>\n",
       "    </tr>\n",
       "  </tbody>\n",
       "</table>\n",
       "</div>"
      ],
      "text/plain": [
       "                age                      \n",
       "                max min       mean median\n",
       "income_level                             \n",
       "High Income      81  18  55.434635     57\n",
       "Low Income       81  18  45.485465     42\n",
       "Moderate Income  81  18  39.227041     34"
      ]
     },
     "execution_count": 67,
     "metadata": {},
     "output_type": "execute_result"
    }
   ],
   "source": [
    "# Gatering 'age','order_frequency' statistical data\n",
    "cust_clean.groupby('income_level').agg({'age':['max','min','mean','median']})"
   ]
  },
  {
   "cell_type": "markdown",
   "id": "8e1a45da",
   "metadata": {},
   "source": [
    "High income customers on average are older customers with moderate income customers being younger while low income customers are more in the middle."
   ]
  },
  {
   "cell_type": "code",
   "execution_count": 68,
   "id": "ac17fa2b",
   "metadata": {
    "scrolled": true
   },
   "outputs": [
    {
     "data": {
      "text/html": [
       "<div>\n",
       "<style scoped>\n",
       "    .dataframe tbody tr th:only-of-type {\n",
       "        vertical-align: middle;\n",
       "    }\n",
       "\n",
       "    .dataframe tbody tr th {\n",
       "        vertical-align: top;\n",
       "    }\n",
       "\n",
       "    .dataframe thead tr th {\n",
       "        text-align: left;\n",
       "    }\n",
       "\n",
       "    .dataframe thead tr:last-of-type th {\n",
       "        text-align: right;\n",
       "    }\n",
       "</style>\n",
       "<table border=\"1\" class=\"dataframe\">\n",
       "  <thead>\n",
       "    <tr>\n",
       "      <th></th>\n",
       "      <th colspan=\"4\" halign=\"left\">order_frequency</th>\n",
       "    </tr>\n",
       "    <tr>\n",
       "      <th></th>\n",
       "      <th>max</th>\n",
       "      <th>min</th>\n",
       "      <th>mean</th>\n",
       "      <th>median</th>\n",
       "    </tr>\n",
       "    <tr>\n",
       "      <th>income_level</th>\n",
       "      <th></th>\n",
       "      <th></th>\n",
       "      <th></th>\n",
       "      <th></th>\n",
       "    </tr>\n",
       "  </thead>\n",
       "  <tbody>\n",
       "    <tr>\n",
       "      <th>High Income</th>\n",
       "      <td>30.0</td>\n",
       "      <td>0.0</td>\n",
       "      <td>13.570825</td>\n",
       "      <td>11.0</td>\n",
       "    </tr>\n",
       "    <tr>\n",
       "      <th>Low Income</th>\n",
       "      <td>30.0</td>\n",
       "      <td>0.0</td>\n",
       "      <td>14.970020</td>\n",
       "      <td>13.0</td>\n",
       "    </tr>\n",
       "    <tr>\n",
       "      <th>Moderate Income</th>\n",
       "      <td>30.0</td>\n",
       "      <td>0.0</td>\n",
       "      <td>13.939505</td>\n",
       "      <td>12.0</td>\n",
       "    </tr>\n",
       "  </tbody>\n",
       "</table>\n",
       "</div>"
      ],
      "text/plain": [
       "                order_frequency                       \n",
       "                            max  min       mean median\n",
       "income_level                                          \n",
       "High Income                30.0  0.0  13.570825   11.0\n",
       "Low Income                 30.0  0.0  14.970020   13.0\n",
       "Moderate Income            30.0  0.0  13.939505   12.0"
      ]
     },
     "execution_count": 68,
     "metadata": {},
     "output_type": "execute_result"
    }
   ],
   "source": [
    "cust_clean.groupby('income_level').agg({'order_frequency':['max','min','mean','median']})"
   ]
  },
  {
   "cell_type": "markdown",
   "id": "b4154e38",
   "metadata": {},
   "source": [
    "Order frequencies are similar but on average, low income customers order less with high income customers ordering the most"
   ]
  },
  {
   "cell_type": "markdown",
   "id": "4430d3e3",
   "metadata": {},
   "source": [
    "## 09. Question 8 - Compare customer profiles with regions and departments. Can you identify any links."
   ]
  },
  {
   "cell_type": "markdown",
   "id": "58972e75",
   "metadata": {},
   "source": [
    "### 09.1. Parent Category Crosstabs"
   ]
  },
  {
   "cell_type": "code",
   "execution_count": 69,
   "id": "06ccbbd2",
   "metadata": {},
   "outputs": [],
   "source": [
    "# Creating Crosstab\n",
    "region_parent = pd.crosstab(df_final['region'],cust_clean['parent_category'])"
   ]
  },
  {
   "cell_type": "code",
   "execution_count": 70,
   "id": "c8bd6884",
   "metadata": {},
   "outputs": [
    {
     "data": {
      "text/html": [
       "<div>\n",
       "<style scoped>\n",
       "    .dataframe tbody tr th:only-of-type {\n",
       "        vertical-align: middle;\n",
       "    }\n",
       "\n",
       "    .dataframe tbody tr th {\n",
       "        vertical-align: top;\n",
       "    }\n",
       "\n",
       "    .dataframe thead th {\n",
       "        text-align: right;\n",
       "    }\n",
       "</style>\n",
       "<table border=\"1\" class=\"dataframe\">\n",
       "  <thead>\n",
       "    <tr style=\"text-align: right;\">\n",
       "      <th>parent_category</th>\n",
       "      <th>No current dependants</th>\n",
       "      <th>Parent of one</th>\n",
       "      <th>Parent of two or more</th>\n",
       "    </tr>\n",
       "    <tr>\n",
       "      <th>region</th>\n",
       "      <th></th>\n",
       "      <th></th>\n",
       "      <th></th>\n",
       "    </tr>\n",
       "  </thead>\n",
       "  <tbody>\n",
       "    <tr>\n",
       "      <th>Mid West</th>\n",
       "      <td>9567</td>\n",
       "      <td>9635</td>\n",
       "      <td>19175</td>\n",
       "    </tr>\n",
       "    <tr>\n",
       "      <th>North East</th>\n",
       "      <td>7255</td>\n",
       "      <td>7185</td>\n",
       "      <td>14141</td>\n",
       "    </tr>\n",
       "    <tr>\n",
       "      <th>South</th>\n",
       "      <td>13537</td>\n",
       "      <td>13546</td>\n",
       "      <td>27111</td>\n",
       "    </tr>\n",
       "    <tr>\n",
       "      <th>West</th>\n",
       "      <td>10369</td>\n",
       "      <td>10323</td>\n",
       "      <td>20789</td>\n",
       "    </tr>\n",
       "  </tbody>\n",
       "</table>\n",
       "</div>"
      ],
      "text/plain": [
       "parent_category  No current dependants  Parent of one  Parent of two or more\n",
       "region                                                                      \n",
       "Mid West                          9567           9635                  19175\n",
       "North East                        7255           7185                  14141\n",
       "South                            13537          13546                  27111\n",
       "West                             10369          10323                  20789"
      ]
     },
     "execution_count": 70,
     "metadata": {},
     "output_type": "execute_result"
    }
   ],
   "source": [
    "region_parent"
   ]
  },
  {
   "cell_type": "markdown",
   "id": "cc615f9f",
   "metadata": {},
   "source": [
    "### Calculations\n",
    "Total customers: 162,633\n",
    "#### No Current Dependants: 40,728 : 25%\n",
    "Mid-West: 23%   North East: 18%   South: 33%   West: 25%\n",
    "#### Parent of One: 40,689 : 25%\n",
    "Mid-West: 24%   North East: 17%   South: 33%   West: 25%\n",
    "#### Parent of Two or More: 81,216 : 50%\n",
    "Mid-West: 24%   North East: 17%   South: 33%   West: 26%"
   ]
  },
  {
   "cell_type": "markdown",
   "id": "226ea2c4",
   "metadata": {},
   "source": [
    "The South with its larger population is the leader in all categories, we also notice that the majority falls into having 2 dependants or more."
   ]
  },
  {
   "cell_type": "code",
   "execution_count": 71,
   "id": "3be7f8ba",
   "metadata": {},
   "outputs": [],
   "source": [
    "# Creating Crosstab\n",
    "department_parent = pd.crosstab(df_final['department_id'],cust_clean['parent_category'])"
   ]
  },
  {
   "cell_type": "code",
   "execution_count": 72,
   "id": "e06fb5e9",
   "metadata": {},
   "outputs": [
    {
     "data": {
      "text/html": [
       "<div>\n",
       "<style scoped>\n",
       "    .dataframe tbody tr th:only-of-type {\n",
       "        vertical-align: middle;\n",
       "    }\n",
       "\n",
       "    .dataframe tbody tr th {\n",
       "        vertical-align: top;\n",
       "    }\n",
       "\n",
       "    .dataframe thead th {\n",
       "        text-align: right;\n",
       "    }\n",
       "</style>\n",
       "<table border=\"1\" class=\"dataframe\">\n",
       "  <thead>\n",
       "    <tr style=\"text-align: right;\">\n",
       "      <th>parent_category</th>\n",
       "      <th>No current dependants</th>\n",
       "      <th>Parent of one</th>\n",
       "      <th>Parent of two or more</th>\n",
       "    </tr>\n",
       "    <tr>\n",
       "      <th>department_id</th>\n",
       "      <th></th>\n",
       "      <th></th>\n",
       "      <th></th>\n",
       "    </tr>\n",
       "  </thead>\n",
       "  <tbody>\n",
       "    <tr>\n",
       "      <th>1.0</th>\n",
       "      <td>2663</td>\n",
       "      <td>2430</td>\n",
       "      <td>5083</td>\n",
       "    </tr>\n",
       "    <tr>\n",
       "      <th>2.0</th>\n",
       "      <td>78</td>\n",
       "      <td>71</td>\n",
       "      <td>120</td>\n",
       "    </tr>\n",
       "    <tr>\n",
       "      <th>3.0</th>\n",
       "      <td>1521</td>\n",
       "      <td>1517</td>\n",
       "      <td>3028</td>\n",
       "    </tr>\n",
       "    <tr>\n",
       "      <th>4.0</th>\n",
       "      <td>10955</td>\n",
       "      <td>11177</td>\n",
       "      <td>22032</td>\n",
       "    </tr>\n",
       "    <tr>\n",
       "      <th>5.0</th>\n",
       "      <td>526</td>\n",
       "      <td>593</td>\n",
       "      <td>1132</td>\n",
       "    </tr>\n",
       "    <tr>\n",
       "      <th>6.0</th>\n",
       "      <td>277</td>\n",
       "      <td>273</td>\n",
       "      <td>516</td>\n",
       "    </tr>\n",
       "    <tr>\n",
       "      <th>7.0</th>\n",
       "      <td>5235</td>\n",
       "      <td>5248</td>\n",
       "      <td>10643</td>\n",
       "    </tr>\n",
       "    <tr>\n",
       "      <th>8.0</th>\n",
       "      <td>183</td>\n",
       "      <td>185</td>\n",
       "      <td>313</td>\n",
       "    </tr>\n",
       "    <tr>\n",
       "      <th>9.0</th>\n",
       "      <td>652</td>\n",
       "      <td>622</td>\n",
       "      <td>1370</td>\n",
       "    </tr>\n",
       "    <tr>\n",
       "      <th>10.0</th>\n",
       "      <td>39</td>\n",
       "      <td>34</td>\n",
       "      <td>76</td>\n",
       "    </tr>\n",
       "    <tr>\n",
       "      <th>11.0</th>\n",
       "      <td>663</td>\n",
       "      <td>683</td>\n",
       "      <td>1337</td>\n",
       "    </tr>\n",
       "    <tr>\n",
       "      <th>12.0</th>\n",
       "      <td>933</td>\n",
       "      <td>952</td>\n",
       "      <td>1860</td>\n",
       "    </tr>\n",
       "    <tr>\n",
       "      <th>13.0</th>\n",
       "      <td>1732</td>\n",
       "      <td>1903</td>\n",
       "      <td>3593</td>\n",
       "    </tr>\n",
       "    <tr>\n",
       "      <th>14.0</th>\n",
       "      <td>745</td>\n",
       "      <td>745</td>\n",
       "      <td>1494</td>\n",
       "    </tr>\n",
       "    <tr>\n",
       "      <th>15.0</th>\n",
       "      <td>788</td>\n",
       "      <td>786</td>\n",
       "      <td>1512</td>\n",
       "    </tr>\n",
       "    <tr>\n",
       "      <th>16.0</th>\n",
       "      <td>8081</td>\n",
       "      <td>7966</td>\n",
       "      <td>15878</td>\n",
       "    </tr>\n",
       "    <tr>\n",
       "      <th>17.0</th>\n",
       "      <td>1121</td>\n",
       "      <td>1154</td>\n",
       "      <td>2272</td>\n",
       "    </tr>\n",
       "    <tr>\n",
       "      <th>18.0</th>\n",
       "      <td>291</td>\n",
       "      <td>261</td>\n",
       "      <td>574</td>\n",
       "    </tr>\n",
       "    <tr>\n",
       "      <th>19.0</th>\n",
       "      <td>2993</td>\n",
       "      <td>2891</td>\n",
       "      <td>5855</td>\n",
       "    </tr>\n",
       "    <tr>\n",
       "      <th>20.0</th>\n",
       "      <td>1161</td>\n",
       "      <td>1131</td>\n",
       "      <td>2340</td>\n",
       "    </tr>\n",
       "    <tr>\n",
       "      <th>21.0</th>\n",
       "      <td>25</td>\n",
       "      <td>26</td>\n",
       "      <td>62</td>\n",
       "    </tr>\n",
       "  </tbody>\n",
       "</table>\n",
       "</div>"
      ],
      "text/plain": [
       "parent_category  No current dependants  Parent of one  Parent of two or more\n",
       "department_id                                                               \n",
       "1.0                               2663           2430                   5083\n",
       "2.0                                 78             71                    120\n",
       "3.0                               1521           1517                   3028\n",
       "4.0                              10955          11177                  22032\n",
       "5.0                                526            593                   1132\n",
       "6.0                                277            273                    516\n",
       "7.0                               5235           5248                  10643\n",
       "8.0                                183            185                    313\n",
       "9.0                                652            622                   1370\n",
       "10.0                                39             34                     76\n",
       "11.0                               663            683                   1337\n",
       "12.0                               933            952                   1860\n",
       "13.0                              1732           1903                   3593\n",
       "14.0                               745            745                   1494\n",
       "15.0                               788            786                   1512\n",
       "16.0                              8081           7966                  15878\n",
       "17.0                              1121           1154                   2272\n",
       "18.0                               291            261                    574\n",
       "19.0                              2993           2891                   5855\n",
       "20.0                              1161           1131                   2340\n",
       "21.0                                25             26                     62"
      ]
     },
     "execution_count": 72,
     "metadata": {},
     "output_type": "execute_result"
    }
   ],
   "source": [
    "department_parent"
   ]
  },
  {
   "cell_type": "markdown",
   "id": "c7b66bc6",
   "metadata": {},
   "source": [
    "Most orders come from the Produce(4.0) department in all categories, with Dairy/Eggs(16) coming in second."
   ]
  },
  {
   "cell_type": "markdown",
   "id": "97eb73ec",
   "metadata": {},
   "source": [
    "### 09.1.1. Baby Shopper Category Crosstabs"
   ]
  },
  {
   "cell_type": "code",
   "execution_count": 73,
   "id": "ee4d57a2",
   "metadata": {},
   "outputs": [],
   "source": [
    "# Creating Crosstab\n",
    "region_baby = pd.crosstab(df_final['region'],cust_clean['baby_shopper'])"
   ]
  },
  {
   "cell_type": "code",
   "execution_count": 74,
   "id": "3656548d",
   "metadata": {},
   "outputs": [
    {
     "data": {
      "text/html": [
       "<div>\n",
       "<style scoped>\n",
       "    .dataframe tbody tr th:only-of-type {\n",
       "        vertical-align: middle;\n",
       "    }\n",
       "\n",
       "    .dataframe tbody tr th {\n",
       "        vertical-align: top;\n",
       "    }\n",
       "\n",
       "    .dataframe thead th {\n",
       "        text-align: right;\n",
       "    }\n",
       "</style>\n",
       "<table border=\"1\" class=\"dataframe\">\n",
       "  <thead>\n",
       "    <tr style=\"text-align: right;\">\n",
       "      <th>baby_shopper</th>\n",
       "      <th>Baby Shopper</th>\n",
       "      <th>None Baby Shopper</th>\n",
       "    </tr>\n",
       "    <tr>\n",
       "      <th>region</th>\n",
       "      <th></th>\n",
       "      <th></th>\n",
       "    </tr>\n",
       "  </thead>\n",
       "  <tbody>\n",
       "    <tr>\n",
       "      <th>Mid West</th>\n",
       "      <td>7205</td>\n",
       "      <td>31172</td>\n",
       "    </tr>\n",
       "    <tr>\n",
       "      <th>North East</th>\n",
       "      <td>5325</td>\n",
       "      <td>23256</td>\n",
       "    </tr>\n",
       "    <tr>\n",
       "      <th>South</th>\n",
       "      <td>10053</td>\n",
       "      <td>44141</td>\n",
       "    </tr>\n",
       "    <tr>\n",
       "      <th>West</th>\n",
       "      <td>7647</td>\n",
       "      <td>33834</td>\n",
       "    </tr>\n",
       "  </tbody>\n",
       "</table>\n",
       "</div>"
      ],
      "text/plain": [
       "baby_shopper  Baby Shopper  None Baby Shopper\n",
       "region                                       \n",
       "Mid West              7205              31172\n",
       "North East            5325              23256\n",
       "South                10053              44141\n",
       "West                  7647              33834"
      ]
     },
     "execution_count": 74,
     "metadata": {},
     "output_type": "execute_result"
    }
   ],
   "source": [
    "region_baby"
   ]
  },
  {
   "cell_type": "markdown",
   "id": "ca22d6ab",
   "metadata": {},
   "source": [
    "### Calculations\n",
    "Total customers: 162,633\n",
    "#### Baby Shopper: 30,230 : 19%\n",
    "Mid-West: 24%   North East: 18%   South: 33%   West: 25%\n",
    "#### None Baby Shopper: 132,403 : 81%\n",
    "Mid-West: 23%   North East: 18%   South: 33%   West: 25%"
   ]
  },
  {
   "cell_type": "markdown",
   "id": "d1aa1840",
   "metadata": {},
   "source": [
    "South remains dominate due to largest size of customers, however, when we do the calculations, Baby Shoppers only make up 19 percent of the customer base"
   ]
  },
  {
   "cell_type": "code",
   "execution_count": 75,
   "id": "39698661",
   "metadata": {},
   "outputs": [],
   "source": [
    "# Creating Crosstab\n",
    "department_baby = pd.crosstab(df_final['department_id'],cust_clean['baby_shopper'])"
   ]
  },
  {
   "cell_type": "code",
   "execution_count": 76,
   "id": "fe2983c8",
   "metadata": {},
   "outputs": [
    {
     "data": {
      "text/html": [
       "<div>\n",
       "<style scoped>\n",
       "    .dataframe tbody tr th:only-of-type {\n",
       "        vertical-align: middle;\n",
       "    }\n",
       "\n",
       "    .dataframe tbody tr th {\n",
       "        vertical-align: top;\n",
       "    }\n",
       "\n",
       "    .dataframe thead th {\n",
       "        text-align: right;\n",
       "    }\n",
       "</style>\n",
       "<table border=\"1\" class=\"dataframe\">\n",
       "  <thead>\n",
       "    <tr style=\"text-align: right;\">\n",
       "      <th>baby_shopper</th>\n",
       "      <th>Baby Shopper</th>\n",
       "      <th>None Baby Shopper</th>\n",
       "    </tr>\n",
       "    <tr>\n",
       "      <th>department_id</th>\n",
       "      <th></th>\n",
       "      <th></th>\n",
       "    </tr>\n",
       "  </thead>\n",
       "  <tbody>\n",
       "    <tr>\n",
       "      <th>1.0</th>\n",
       "      <td>1762</td>\n",
       "      <td>8414</td>\n",
       "    </tr>\n",
       "    <tr>\n",
       "      <th>2.0</th>\n",
       "      <td>79</td>\n",
       "      <td>190</td>\n",
       "    </tr>\n",
       "    <tr>\n",
       "      <th>3.0</th>\n",
       "      <td>1323</td>\n",
       "      <td>4743</td>\n",
       "    </tr>\n",
       "    <tr>\n",
       "      <th>4.0</th>\n",
       "      <td>7710</td>\n",
       "      <td>36454</td>\n",
       "    </tr>\n",
       "    <tr>\n",
       "      <th>5.0</th>\n",
       "      <td>216</td>\n",
       "      <td>2035</td>\n",
       "    </tr>\n",
       "    <tr>\n",
       "      <th>6.0</th>\n",
       "      <td>166</td>\n",
       "      <td>900</td>\n",
       "    </tr>\n",
       "    <tr>\n",
       "      <th>7.0</th>\n",
       "      <td>3125</td>\n",
       "      <td>18001</td>\n",
       "    </tr>\n",
       "    <tr>\n",
       "      <th>8.0</th>\n",
       "      <td>107</td>\n",
       "      <td>574</td>\n",
       "    </tr>\n",
       "    <tr>\n",
       "      <th>9.0</th>\n",
       "      <td>503</td>\n",
       "      <td>2141</td>\n",
       "    </tr>\n",
       "    <tr>\n",
       "      <th>10.0</th>\n",
       "      <td>29</td>\n",
       "      <td>120</td>\n",
       "    </tr>\n",
       "    <tr>\n",
       "      <th>11.0</th>\n",
       "      <td>596</td>\n",
       "      <td>2087</td>\n",
       "    </tr>\n",
       "    <tr>\n",
       "      <th>12.0</th>\n",
       "      <td>594</td>\n",
       "      <td>3151</td>\n",
       "    </tr>\n",
       "    <tr>\n",
       "      <th>13.0</th>\n",
       "      <td>1223</td>\n",
       "      <td>6005</td>\n",
       "    </tr>\n",
       "    <tr>\n",
       "      <th>14.0</th>\n",
       "      <td>571</td>\n",
       "      <td>2413</td>\n",
       "    </tr>\n",
       "    <tr>\n",
       "      <th>15.0</th>\n",
       "      <td>549</td>\n",
       "      <td>2537</td>\n",
       "    </tr>\n",
       "    <tr>\n",
       "      <th>16.0</th>\n",
       "      <td>7005</td>\n",
       "      <td>24920</td>\n",
       "    </tr>\n",
       "    <tr>\n",
       "      <th>17.0</th>\n",
       "      <td>944</td>\n",
       "      <td>3603</td>\n",
       "    </tr>\n",
       "    <tr>\n",
       "      <th>18.0</th>\n",
       "      <td>1126</td>\n",
       "      <td>0</td>\n",
       "    </tr>\n",
       "    <tr>\n",
       "      <th>19.0</th>\n",
       "      <td>1725</td>\n",
       "      <td>10014</td>\n",
       "    </tr>\n",
       "    <tr>\n",
       "      <th>20.0</th>\n",
       "      <td>788</td>\n",
       "      <td>3844</td>\n",
       "    </tr>\n",
       "    <tr>\n",
       "      <th>21.0</th>\n",
       "      <td>20</td>\n",
       "      <td>93</td>\n",
       "    </tr>\n",
       "  </tbody>\n",
       "</table>\n",
       "</div>"
      ],
      "text/plain": [
       "baby_shopper   Baby Shopper  None Baby Shopper\n",
       "department_id                                 \n",
       "1.0                    1762               8414\n",
       "2.0                      79                190\n",
       "3.0                    1323               4743\n",
       "4.0                    7710              36454\n",
       "5.0                     216               2035\n",
       "6.0                     166                900\n",
       "7.0                    3125              18001\n",
       "8.0                     107                574\n",
       "9.0                     503               2141\n",
       "10.0                     29                120\n",
       "11.0                    596               2087\n",
       "12.0                    594               3151\n",
       "13.0                   1223               6005\n",
       "14.0                    571               2413\n",
       "15.0                    549               2537\n",
       "16.0                   7005              24920\n",
       "17.0                    944               3603\n",
       "18.0                   1126                  0\n",
       "19.0                   1725              10014\n",
       "20.0                    788               3844\n",
       "21.0                     20                 93"
      ]
     },
     "execution_count": 76,
     "metadata": {},
     "output_type": "execute_result"
    }
   ],
   "source": [
    "department_baby"
   ]
  },
  {
   "cell_type": "markdown",
   "id": "62b791b0",
   "metadata": {},
   "source": [
    "It becomes difficult to determine any patterns as 81% of customers are None Baby Shoppers, calculations would need to be done to get significant results. However Produce(4.0) department is still largely most common department, with Dairy/Eggs(16) coming in second."
   ]
  },
  {
   "cell_type": "markdown",
   "id": "60900413",
   "metadata": {},
   "source": [
    "### 09.2. Pet Shopper Crosstabs"
   ]
  },
  {
   "cell_type": "code",
   "execution_count": 77,
   "id": "669f2471",
   "metadata": {},
   "outputs": [],
   "source": [
    "# Creating Crosstab\n",
    "region_pet = pd.crosstab(df_final['region'],cust_clean['pet_shopper'])"
   ]
  },
  {
   "cell_type": "code",
   "execution_count": 78,
   "id": "d487c432",
   "metadata": {},
   "outputs": [
    {
     "data": {
      "text/html": [
       "<div>\n",
       "<style scoped>\n",
       "    .dataframe tbody tr th:only-of-type {\n",
       "        vertical-align: middle;\n",
       "    }\n",
       "\n",
       "    .dataframe tbody tr th {\n",
       "        vertical-align: top;\n",
       "    }\n",
       "\n",
       "    .dataframe thead th {\n",
       "        text-align: right;\n",
       "    }\n",
       "</style>\n",
       "<table border=\"1\" class=\"dataframe\">\n",
       "  <thead>\n",
       "    <tr style=\"text-align: right;\">\n",
       "      <th>pet_shopper</th>\n",
       "      <th>Non Pet Shopper</th>\n",
       "      <th>Pet Shopper</th>\n",
       "    </tr>\n",
       "    <tr>\n",
       "      <th>region</th>\n",
       "      <th></th>\n",
       "      <th></th>\n",
       "    </tr>\n",
       "  </thead>\n",
       "  <tbody>\n",
       "    <tr>\n",
       "      <th>Mid West</th>\n",
       "      <td>35264</td>\n",
       "      <td>3113</td>\n",
       "    </tr>\n",
       "    <tr>\n",
       "      <th>North East</th>\n",
       "      <td>26282</td>\n",
       "      <td>2299</td>\n",
       "    </tr>\n",
       "    <tr>\n",
       "      <th>South</th>\n",
       "      <td>49869</td>\n",
       "      <td>4325</td>\n",
       "    </tr>\n",
       "    <tr>\n",
       "      <th>West</th>\n",
       "      <td>38043</td>\n",
       "      <td>3438</td>\n",
       "    </tr>\n",
       "  </tbody>\n",
       "</table>\n",
       "</div>"
      ],
      "text/plain": [
       "pet_shopper  Non Pet Shopper  Pet Shopper\n",
       "region                                   \n",
       "Mid West               35264         3113\n",
       "North East             26282         2299\n",
       "South                  49869         4325\n",
       "West                   38043         3438"
      ]
     },
     "execution_count": 78,
     "metadata": {},
     "output_type": "execute_result"
    }
   ],
   "source": [
    "region_pet"
   ]
  },
  {
   "cell_type": "markdown",
   "id": "89c963f4",
   "metadata": {},
   "source": [
    "### Calculations\n",
    "Total customers: 162,633\n",
    "#### Pet Shopper: 13,175 : 9%\n",
    "Mid-West: 24%   North East: 17%   South: 33%   West: 26%\n",
    "#### None Pet Shopper: 149,458 : 91%\n",
    "Mid-West: 24%   North East: 18%   South: 33%   West: 25%"
   ]
  },
  {
   "cell_type": "markdown",
   "id": "16c51b2b",
   "metadata": {},
   "source": [
    "Pet Shoppers make up only 9% of the customer base making it the second lowest count profile in our customer base that we have identified."
   ]
  },
  {
   "cell_type": "code",
   "execution_count": 79,
   "id": "67291e7e",
   "metadata": {},
   "outputs": [],
   "source": [
    "# Creating Crosstab\n",
    "department_pet = pd.crosstab(df_final['department_id'],cust_clean['pet_shopper'])"
   ]
  },
  {
   "cell_type": "code",
   "execution_count": 80,
   "id": "f400bb16",
   "metadata": {},
   "outputs": [
    {
     "data": {
      "text/html": [
       "<div>\n",
       "<style scoped>\n",
       "    .dataframe tbody tr th:only-of-type {\n",
       "        vertical-align: middle;\n",
       "    }\n",
       "\n",
       "    .dataframe tbody tr th {\n",
       "        vertical-align: top;\n",
       "    }\n",
       "\n",
       "    .dataframe thead th {\n",
       "        text-align: right;\n",
       "    }\n",
       "</style>\n",
       "<table border=\"1\" class=\"dataframe\">\n",
       "  <thead>\n",
       "    <tr style=\"text-align: right;\">\n",
       "      <th>pet_shopper</th>\n",
       "      <th>Non Pet Shopper</th>\n",
       "      <th>Pet Shopper</th>\n",
       "    </tr>\n",
       "    <tr>\n",
       "      <th>department_id</th>\n",
       "      <th></th>\n",
       "      <th></th>\n",
       "    </tr>\n",
       "  </thead>\n",
       "  <tbody>\n",
       "    <tr>\n",
       "      <th>1.0</th>\n",
       "      <td>9243</td>\n",
       "      <td>933</td>\n",
       "    </tr>\n",
       "    <tr>\n",
       "      <th>2.0</th>\n",
       "      <td>234</td>\n",
       "      <td>35</td>\n",
       "    </tr>\n",
       "    <tr>\n",
       "      <th>3.0</th>\n",
       "      <td>5535</td>\n",
       "      <td>531</td>\n",
       "    </tr>\n",
       "    <tr>\n",
       "      <th>4.0</th>\n",
       "      <td>41674</td>\n",
       "      <td>2490</td>\n",
       "    </tr>\n",
       "    <tr>\n",
       "      <th>5.0</th>\n",
       "      <td>1995</td>\n",
       "      <td>256</td>\n",
       "    </tr>\n",
       "    <tr>\n",
       "      <th>6.0</th>\n",
       "      <td>972</td>\n",
       "      <td>94</td>\n",
       "    </tr>\n",
       "    <tr>\n",
       "      <th>7.0</th>\n",
       "      <td>19169</td>\n",
       "      <td>1957</td>\n",
       "    </tr>\n",
       "    <tr>\n",
       "      <th>8.0</th>\n",
       "      <td>0</td>\n",
       "      <td>681</td>\n",
       "    </tr>\n",
       "    <tr>\n",
       "      <th>9.0</th>\n",
       "      <td>2415</td>\n",
       "      <td>229</td>\n",
       "    </tr>\n",
       "    <tr>\n",
       "      <th>10.0</th>\n",
       "      <td>146</td>\n",
       "      <td>3</td>\n",
       "    </tr>\n",
       "    <tr>\n",
       "      <th>11.0</th>\n",
       "      <td>2328</td>\n",
       "      <td>355</td>\n",
       "    </tr>\n",
       "    <tr>\n",
       "      <th>12.0</th>\n",
       "      <td>3424</td>\n",
       "      <td>321</td>\n",
       "    </tr>\n",
       "    <tr>\n",
       "      <th>13.0</th>\n",
       "      <td>6622</td>\n",
       "      <td>606</td>\n",
       "    </tr>\n",
       "    <tr>\n",
       "      <th>14.0</th>\n",
       "      <td>2735</td>\n",
       "      <td>249</td>\n",
       "    </tr>\n",
       "    <tr>\n",
       "      <th>15.0</th>\n",
       "      <td>2819</td>\n",
       "      <td>267</td>\n",
       "    </tr>\n",
       "    <tr>\n",
       "      <th>16.0</th>\n",
       "      <td>29613</td>\n",
       "      <td>2312</td>\n",
       "    </tr>\n",
       "    <tr>\n",
       "      <th>17.0</th>\n",
       "      <td>3979</td>\n",
       "      <td>568</td>\n",
       "    </tr>\n",
       "    <tr>\n",
       "      <th>18.0</th>\n",
       "      <td>1027</td>\n",
       "      <td>99</td>\n",
       "    </tr>\n",
       "    <tr>\n",
       "      <th>19.0</th>\n",
       "      <td>10883</td>\n",
       "      <td>856</td>\n",
       "    </tr>\n",
       "    <tr>\n",
       "      <th>20.0</th>\n",
       "      <td>4313</td>\n",
       "      <td>319</td>\n",
       "    </tr>\n",
       "    <tr>\n",
       "      <th>21.0</th>\n",
       "      <td>105</td>\n",
       "      <td>8</td>\n",
       "    </tr>\n",
       "  </tbody>\n",
       "</table>\n",
       "</div>"
      ],
      "text/plain": [
       "pet_shopper    Non Pet Shopper  Pet Shopper\n",
       "department_id                              \n",
       "1.0                       9243          933\n",
       "2.0                        234           35\n",
       "3.0                       5535          531\n",
       "4.0                      41674         2490\n",
       "5.0                       1995          256\n",
       "6.0                        972           94\n",
       "7.0                      19169         1957\n",
       "8.0                          0          681\n",
       "9.0                       2415          229\n",
       "10.0                       146            3\n",
       "11.0                      2328          355\n",
       "12.0                      3424          321\n",
       "13.0                      6622          606\n",
       "14.0                      2735          249\n",
       "15.0                      2819          267\n",
       "16.0                     29613         2312\n",
       "17.0                      3979          568\n",
       "18.0                      1027           99\n",
       "19.0                     10883          856\n",
       "20.0                      4313          319\n",
       "21.0                       105            8"
      ]
     },
     "execution_count": 80,
     "metadata": {},
     "output_type": "execute_result"
    }
   ],
   "source": [
    "department_pet"
   ]
  },
  {
   "cell_type": "markdown",
   "id": "677e0a60",
   "metadata": {},
   "source": [
    "Pet Shoppers most shopped department is Produce (4) with Dairy/Eggs (16) in second and beverages (7) in third"
   ]
  },
  {
   "cell_type": "markdown",
   "id": "c4140de2",
   "metadata": {},
   "source": [
    "### 09.3. Income Level Crosstabs"
   ]
  },
  {
   "cell_type": "code",
   "execution_count": 81,
   "id": "cb6a7ce8",
   "metadata": {},
   "outputs": [],
   "source": [
    "# Creating Crosstab\n",
    "region_income = pd.crosstab(df_final['region'],cust_clean['income_level'])"
   ]
  },
  {
   "cell_type": "code",
   "execution_count": 82,
   "id": "e9a7f1e9",
   "metadata": {},
   "outputs": [
    {
     "data": {
      "text/html": [
       "<div>\n",
       "<style scoped>\n",
       "    .dataframe tbody tr th:only-of-type {\n",
       "        vertical-align: middle;\n",
       "    }\n",
       "\n",
       "    .dataframe tbody tr th {\n",
       "        vertical-align: top;\n",
       "    }\n",
       "\n",
       "    .dataframe thead th {\n",
       "        text-align: right;\n",
       "    }\n",
       "</style>\n",
       "<table border=\"1\" class=\"dataframe\">\n",
       "  <thead>\n",
       "    <tr style=\"text-align: right;\">\n",
       "      <th>income_level</th>\n",
       "      <th>High Income</th>\n",
       "      <th>Low Income</th>\n",
       "      <th>Moderate Income</th>\n",
       "    </tr>\n",
       "    <tr>\n",
       "      <th>region</th>\n",
       "      <th></th>\n",
       "      <th></th>\n",
       "      <th></th>\n",
       "    </tr>\n",
       "  </thead>\n",
       "  <tbody>\n",
       "    <tr>\n",
       "      <th>Mid West</th>\n",
       "      <td>23352</td>\n",
       "      <td>2933</td>\n",
       "      <td>12092</td>\n",
       "    </tr>\n",
       "    <tr>\n",
       "      <th>North East</th>\n",
       "      <td>17429</td>\n",
       "      <td>2248</td>\n",
       "      <td>8904</td>\n",
       "    </tr>\n",
       "    <tr>\n",
       "      <th>South</th>\n",
       "      <td>32757</td>\n",
       "      <td>4200</td>\n",
       "      <td>17237</td>\n",
       "    </tr>\n",
       "    <tr>\n",
       "      <th>West</th>\n",
       "      <td>24986</td>\n",
       "      <td>3244</td>\n",
       "      <td>13251</td>\n",
       "    </tr>\n",
       "  </tbody>\n",
       "</table>\n",
       "</div>"
      ],
      "text/plain": [
       "income_level  High Income  Low Income  Moderate Income\n",
       "region                                                \n",
       "Mid West            23352        2933            12092\n",
       "North East          17429        2248             8904\n",
       "South               32757        4200            17237\n",
       "West                24986        3244            13251"
      ]
     },
     "execution_count": 82,
     "metadata": {},
     "output_type": "execute_result"
    }
   ],
   "source": [
    "region_income"
   ]
  },
  {
   "cell_type": "markdown",
   "id": "079d620b",
   "metadata": {},
   "source": [
    "### Calculations\n",
    "Total customers: 162,633\n",
    "#### High Income: 98,524 : 60%\n",
    "Mid-West: 24%   North East: 18%   South: 33%   West: 25%\n",
    "#### Low Income: 12,625 : 8%\n",
    "Mid-West: 23%   North East: 18%   South: 33%   West: 26%\n",
    "#### Moderate Income: 51,484 : 32%\n",
    "Mid-West: 23%   North East: 17%   South: 33%   West: 26%"
   ]
  },
  {
   "cell_type": "markdown",
   "id": "4d8d0533",
   "metadata": {},
   "source": [
    "Interesting finding that low income customers are the lowest profile customer we identified being at 8%. The majority of the customer base is also within high income status."
   ]
  },
  {
   "cell_type": "code",
   "execution_count": 83,
   "id": "5ef81a87",
   "metadata": {},
   "outputs": [],
   "source": [
    "# Creating Crosstab\n",
    "department_income = pd.crosstab(df_final['department_id'],cust_clean['income_level'])"
   ]
  },
  {
   "cell_type": "code",
   "execution_count": 84,
   "id": "b3f94343",
   "metadata": {},
   "outputs": [
    {
     "data": {
      "text/html": [
       "<div>\n",
       "<style scoped>\n",
       "    .dataframe tbody tr th:only-of-type {\n",
       "        vertical-align: middle;\n",
       "    }\n",
       "\n",
       "    .dataframe tbody tr th {\n",
       "        vertical-align: top;\n",
       "    }\n",
       "\n",
       "    .dataframe thead th {\n",
       "        text-align: right;\n",
       "    }\n",
       "</style>\n",
       "<table border=\"1\" class=\"dataframe\">\n",
       "  <thead>\n",
       "    <tr style=\"text-align: right;\">\n",
       "      <th>income_level</th>\n",
       "      <th>High Income</th>\n",
       "      <th>Low Income</th>\n",
       "      <th>Moderate Income</th>\n",
       "    </tr>\n",
       "    <tr>\n",
       "      <th>department_id</th>\n",
       "      <th></th>\n",
       "      <th></th>\n",
       "      <th></th>\n",
       "    </tr>\n",
       "  </thead>\n",
       "  <tbody>\n",
       "    <tr>\n",
       "      <th>1.0</th>\n",
       "      <td>6246</td>\n",
       "      <td>751</td>\n",
       "      <td>3179</td>\n",
       "    </tr>\n",
       "    <tr>\n",
       "      <th>2.0</th>\n",
       "      <td>164</td>\n",
       "      <td>21</td>\n",
       "      <td>84</td>\n",
       "    </tr>\n",
       "    <tr>\n",
       "      <th>3.0</th>\n",
       "      <td>3784</td>\n",
       "      <td>385</td>\n",
       "      <td>1897</td>\n",
       "    </tr>\n",
       "    <tr>\n",
       "      <th>4.0</th>\n",
       "      <td>27639</td>\n",
       "      <td>2844</td>\n",
       "      <td>13681</td>\n",
       "    </tr>\n",
       "    <tr>\n",
       "      <th>5.0</th>\n",
       "      <td>1369</td>\n",
       "      <td>201</td>\n",
       "      <td>681</td>\n",
       "    </tr>\n",
       "    <tr>\n",
       "      <th>6.0</th>\n",
       "      <td>675</td>\n",
       "      <td>61</td>\n",
       "      <td>330</td>\n",
       "    </tr>\n",
       "    <tr>\n",
       "      <th>7.0</th>\n",
       "      <td>11982</td>\n",
       "      <td>2190</td>\n",
       "      <td>6954</td>\n",
       "    </tr>\n",
       "    <tr>\n",
       "      <th>8.0</th>\n",
       "      <td>426</td>\n",
       "      <td>47</td>\n",
       "      <td>208</td>\n",
       "    </tr>\n",
       "    <tr>\n",
       "      <th>9.0</th>\n",
       "      <td>1674</td>\n",
       "      <td>147</td>\n",
       "      <td>823</td>\n",
       "    </tr>\n",
       "    <tr>\n",
       "      <th>10.0</th>\n",
       "      <td>80</td>\n",
       "      <td>16</td>\n",
       "      <td>53</td>\n",
       "    </tr>\n",
       "    <tr>\n",
       "      <th>11.0</th>\n",
       "      <td>1649</td>\n",
       "      <td>206</td>\n",
       "      <td>828</td>\n",
       "    </tr>\n",
       "    <tr>\n",
       "      <th>12.0</th>\n",
       "      <td>2523</td>\n",
       "      <td>107</td>\n",
       "      <td>1115</td>\n",
       "    </tr>\n",
       "    <tr>\n",
       "      <th>13.0</th>\n",
       "      <td>4441</td>\n",
       "      <td>491</td>\n",
       "      <td>2296</td>\n",
       "    </tr>\n",
       "    <tr>\n",
       "      <th>14.0</th>\n",
       "      <td>1717</td>\n",
       "      <td>260</td>\n",
       "      <td>1007</td>\n",
       "    </tr>\n",
       "    <tr>\n",
       "      <th>15.0</th>\n",
       "      <td>1914</td>\n",
       "      <td>201</td>\n",
       "      <td>971</td>\n",
       "    </tr>\n",
       "    <tr>\n",
       "      <th>16.0</th>\n",
       "      <td>20072</td>\n",
       "      <td>2086</td>\n",
       "      <td>9767</td>\n",
       "    </tr>\n",
       "    <tr>\n",
       "      <th>17.0</th>\n",
       "      <td>2730</td>\n",
       "      <td>381</td>\n",
       "      <td>1436</td>\n",
       "    </tr>\n",
       "    <tr>\n",
       "      <th>18.0</th>\n",
       "      <td>734</td>\n",
       "      <td>55</td>\n",
       "      <td>337</td>\n",
       "    </tr>\n",
       "    <tr>\n",
       "      <th>19.0</th>\n",
       "      <td>5622</td>\n",
       "      <td>1853</td>\n",
       "      <td>4264</td>\n",
       "    </tr>\n",
       "    <tr>\n",
       "      <th>20.0</th>\n",
       "      <td>2864</td>\n",
       "      <td>295</td>\n",
       "      <td>1473</td>\n",
       "    </tr>\n",
       "    <tr>\n",
       "      <th>21.0</th>\n",
       "      <td>80</td>\n",
       "      <td>9</td>\n",
       "      <td>24</td>\n",
       "    </tr>\n",
       "  </tbody>\n",
       "</table>\n",
       "</div>"
      ],
      "text/plain": [
       "income_level   High Income  Low Income  Moderate Income\n",
       "department_id                                          \n",
       "1.0                   6246         751             3179\n",
       "2.0                    164          21               84\n",
       "3.0                   3784         385             1897\n",
       "4.0                  27639        2844            13681\n",
       "5.0                   1369         201              681\n",
       "6.0                    675          61              330\n",
       "7.0                  11982        2190             6954\n",
       "8.0                    426          47              208\n",
       "9.0                   1674         147              823\n",
       "10.0                    80          16               53\n",
       "11.0                  1649         206              828\n",
       "12.0                  2523         107             1115\n",
       "13.0                  4441         491             2296\n",
       "14.0                  1717         260             1007\n",
       "15.0                  1914         201              971\n",
       "16.0                 20072        2086             9767\n",
       "17.0                  2730         381             1436\n",
       "18.0                   734          55              337\n",
       "19.0                  5622        1853             4264\n",
       "20.0                  2864         295             1473\n",
       "21.0                    80           9               24"
      ]
     },
     "execution_count": 84,
     "metadata": {},
     "output_type": "execute_result"
    }
   ],
   "source": [
    "department_income"
   ]
  },
  {
   "cell_type": "markdown",
   "id": "42e66778",
   "metadata": {},
   "source": [
    "All 3 different income have the same patteren of shopping at 1st glance, with additional calculations we can check the percentages of all the orders based off department_id too determine if any noticable difference in spending habits exist."
   ]
  },
  {
   "cell_type": "markdown",
   "id": "69602d83",
   "metadata": {},
   "source": [
    "## 10. Question 9 - Create suitable charts to illustrate our results"
   ]
  },
  {
   "cell_type": "code",
   "execution_count": 85,
   "id": "69ce1bbc",
   "metadata": {},
   "outputs": [
    {
     "data": {
      "image/png": "[encoded data removed]",
      "text/plain": [
       "<Figure size 432x288 with 1 Axes>"
      ]
     },
     "metadata": {
      "needs_background": "light"
     },
     "output_type": "display_data"
    }
   ],
   "source": [
    "# Parent_category barchart, stacked of visual representation of customer base size difference\n",
    "parent_category_region = region_parent.plot.bar(stacked = True)"
   ]
  },
  {
   "cell_type": "code",
   "execution_count": 86,
   "id": "43a0f061",
   "metadata": {},
   "outputs": [
    {
     "data": {
      "image/png": "[encoded data removed]",
      "text/plain": [
       "<Figure size 432x288 with 1 Axes>"
      ]
     },
     "metadata": {
      "needs_background": "light"
     },
     "output_type": "display_data"
    }
   ],
   "source": [
    "# Parent_category barchart, stacked of visual representation of customer base size difference\n",
    "parent_category_department = department_parent.plot.bar(stacked = True)"
   ]
  },
  {
   "cell_type": "code",
   "execution_count": 87,
   "id": "0a921b7c",
   "metadata": {},
   "outputs": [
    {
     "data": {
      "image/png": "[encoded data removed]",
      "text/plain": [
       "<Figure size 432x288 with 1 Axes>"
      ]
     },
     "metadata": {
      "needs_background": "light"
     },
     "output_type": "display_data"
    }
   ],
   "source": [
    "# Baby Shopper bar chart, side by side for immediate comparison between the two groups\n",
    "baby_shopper_region = region_baby.plot.bar()"
   ]
  },
  {
   "cell_type": "code",
   "execution_count": 88,
   "id": "eb18ae73",
   "metadata": {},
   "outputs": [
    {
     "data": {
      "image/png": "[encoded data removed]",
      "text/plain": [
       "<Figure size 432x288 with 1 Axes>"
      ]
     },
     "metadata": {
      "needs_background": "light"
     },
     "output_type": "display_data"
    }
   ],
   "source": [
    "# Baby Shopper bar chart, side by side for immediate comparison between the two groups\n",
    "baby_shopper_department = department_baby.plot.bar()"
   ]
  },
  {
   "cell_type": "code",
   "execution_count": 89,
   "id": "23c6ac6a",
   "metadata": {},
   "outputs": [
    {
     "data": {
      "image/png": "[encoded data removed]",
      "text/plain": [
       "<Figure size 432x288 with 1 Axes>"
      ]
     },
     "metadata": {
      "needs_background": "light"
     },
     "output_type": "display_data"
    }
   ],
   "source": [
    "# Pet Shopper bar chart, side by side for immediate comparison between the two groups\n",
    "pet_shopper_region = region_pet.plot.bar()"
   ]
  },
  {
   "cell_type": "code",
   "execution_count": 90,
   "id": "2115f27a",
   "metadata": {},
   "outputs": [
    {
     "data": {
      "image/png": "[encoded data removed]",
      "text/plain": [
       "<Figure size 432x288 with 1 Axes>"
      ]
     },
     "metadata": {
      "needs_background": "light"
     },
     "output_type": "display_data"
    }
   ],
   "source": [
    "# Pet Shopper bar chart, side by side for immediate comparison between the two groups\n",
    "pet_shopper_department = department_pet.plot.bar()"
   ]
  },
  {
   "cell_type": "code",
   "execution_count": 91,
   "id": "9ead975e",
   "metadata": {},
   "outputs": [
    {
     "data": {
      "image/png": "[encoded data removed]",
      "text/plain": [
       "<Figure size 432x288 with 1 Axes>"
      ]
     },
     "metadata": {
      "needs_background": "light"
     },
     "output_type": "display_data"
    }
   ],
   "source": [
    "# Income Level barchart, stacked of visual representation of customer base size difference\n",
    "income_level_region = region_income.plot.bar(stacked = True)"
   ]
  },
  {
   "cell_type": "code",
   "execution_count": 92,
   "id": "59c568e2",
   "metadata": {},
   "outputs": [
    {
     "data": {
      "image/png": "[encoded data removed]",
      "text/plain": [
       "<Figure size 432x288 with 1 Axes>"
      ]
     },
     "metadata": {
      "needs_background": "light"
     },
     "output_type": "display_data"
    }
   ],
   "source": [
    "# Income Level barchart, stacked of visual representation of customer base size difference\n",
    "income_level_department = department_income.plot.bar(stacked = True)"
   ]
  },
  {
   "cell_type": "markdown",
   "id": "73d51d54",
   "metadata": {},
   "source": [
    "## 11. Exporting"
   ]
  },
  {
   "cell_type": "code",
   "execution_count": 93,
   "id": "39f1a615",
   "metadata": {},
   "outputs": [],
   "source": [
    "df_final.to_pickle(os.path.join(path, '02 Data', 'Prepared Data','final_merge.pkl'))"
   ]
  },
  {
   "cell_type": "code",
   "execution_count": 94,
   "id": "0ec803cc",
   "metadata": {},
   "outputs": [],
   "source": [
    "parent_bar.figure.savefig(os.path.join(path, '04 Analysis', 'Visualizations', 'parent_barchat.png'))\n",
    "baby_bar.figure.savefig(os.path.join(path, '04 Analysis', 'Visualizations', 'baby_shopper_barchart.png'))\n",
    "pet_bar.figure.savefig(os.path.join(path, '04 Analysis', 'Visualizations', 'pet_shopper_barchart.png'))\n",
    "income_bar.figure.savefig(os.path.join(path, '04 Analysis', 'Visualizations', 'income_level_barchart.png'))"
   ]
  },
  {
   "cell_type": "code",
   "execution_count": 95,
   "id": "b7124201",
   "metadata": {},
   "outputs": [],
   "source": [
    "parent_category_region.figure.savefig(os.path.join(path, '04 Analysis', 'Visualizations', 'parent_category_region.png'))\n",
    "parent_category_department.figure.savefig(os.path.join(path, '04 Analysis', 'Visualizations', 'parent_category_department.png'))\n",
    "baby_shopper_region.figure.savefig(os.path.join(path, '04 Analysis', 'Visualizations', 'baby_shopper_region.png'))\n",
    "baby_shopper_department.figure.savefig(os.path.join(path, '04 Analysis', 'Visualizations', 'baby_shopper_department.png'))\n",
    "pet_shopper_region.figure.savefig(os.path.join(path, '04 Analysis', 'Visualizations', 'pet_shopper_region.png'))\n",
    "pet_shopper_department.figure.savefig(os.path.join(path, '04 Analysis', 'Visualizations', 'pet_shopper_department.png'))\n",
    "income_level_region.figure.savefig(os.path.join(path, '04 Analysis', 'Visualizations', 'income_level_region.png'))\n",
    "income_level_department.figure.savefig(os.path.join(path, '04 Analysis', 'Visualizations', 'income_level_department.png'))"
   ]
  },
  {
   "cell_type": "code",
   "execution_count": null,
   "id": "f7f215e0",
   "metadata": {},
   "outputs": [],
   "source": []
  }
 ],
 "metadata": {
  "kernelspec": {
   "display_name": "Python 3",
   "language": "python",
   "name": "python3"
  },
  "language_info": {
   "codemirror_mode": {
    "name": "ipython",
    "version": 3
   },
   "file_extension": ".py",
   "mimetype": "text/x-python",
   "name": "python",
   "nbconvert_exporter": "python",
   "pygments_lexer": "ipython3",
   "version": "3.8.8"
  }
 },
 "nbformat": 4,
 "nbformat_minor": 5
}
